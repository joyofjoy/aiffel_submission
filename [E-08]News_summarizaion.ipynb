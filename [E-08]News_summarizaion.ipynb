{
 "cells": [
  {
   "cell_type": "code",
   "execution_count": 1,
   "id": "1ed563ad",
   "metadata": {},
   "outputs": [
    {
     "name": "stderr",
     "output_type": "stream",
     "text": [
      "[nltk_data] Downloading package stopwords to /aiffel/nltk_data...\n",
      "[nltk_data]   Unzipping corpora/stopwords.zip.\n"
     ]
    }
   ],
   "source": [
    "# 필요한 모듈 다 불러오기\n",
    "\n",
    "import nltk\n",
    "nltk.download('stopwords')\n",
    "\n",
    "import numpy as np\n",
    "import pandas as pd\n",
    "import os\n",
    "import re\n",
    "import matplotlib.pyplot as plt\n",
    "from nltk.corpus import stopwords\n",
    "from bs4 import BeautifulSoup \n",
    "from tensorflow.keras.preprocessing.text import Tokenizer \n",
    "from tensorflow.keras.preprocessing.sequence import pad_sequences\n",
    "import urllib.request\n",
    "import warnings\n",
    "warnings.filterwarnings(\"ignore\", category=UserWarning, module='bs4')"
   ]
  },
  {
   "cell_type": "markdown",
   "id": "a6c2be56",
   "metadata": {},
   "source": [
    "# Step 1. 데이터 수집하기"
   ]
  },
  {
   "cell_type": "code",
   "execution_count": 2,
   "id": "2d71e7c9",
   "metadata": {},
   "outputs": [
    {
     "data": {
      "text/html": [
       "<div>\n",
       "<style scoped>\n",
       "    .dataframe tbody tr th:only-of-type {\n",
       "        vertical-align: middle;\n",
       "    }\n",
       "\n",
       "    .dataframe tbody tr th {\n",
       "        vertical-align: top;\n",
       "    }\n",
       "\n",
       "    .dataframe thead th {\n",
       "        text-align: right;\n",
       "    }\n",
       "</style>\n",
       "<table border=\"1\" class=\"dataframe\">\n",
       "  <thead>\n",
       "    <tr style=\"text-align: right;\">\n",
       "      <th></th>\n",
       "      <th>headlines</th>\n",
       "      <th>text</th>\n",
       "    </tr>\n",
       "  </thead>\n",
       "  <tbody>\n",
       "    <tr>\n",
       "      <th>62969</th>\n",
       "      <td>Best quotes by Shah Rukh Khan on his 52nd birt...</td>\n",
       "      <td>Actor Shah Rukh Khan, who made his debut in Bo...</td>\n",
       "    </tr>\n",
       "    <tr>\n",
       "      <th>15380</th>\n",
       "      <td>Cricket's only forfeited Test was awarded to E...</td>\n",
       "      <td>The fourth England-Pakistan Test match, Test c...</td>\n",
       "    </tr>\n",
       "    <tr>\n",
       "      <th>69608</th>\n",
       "      <td>What is an Initial Coin Offering?</td>\n",
       "      <td>Initial Coin Offering (ICO) is a way for start...</td>\n",
       "    </tr>\n",
       "    <tr>\n",
       "      <th>18505</th>\n",
       "      <td>India, US sign deal on advanced technology exc...</td>\n",
       "      <td>India signed the Communications Compatibility ...</td>\n",
       "    </tr>\n",
       "    <tr>\n",
       "      <th>61112</th>\n",
       "      <td>NET syllabus to be revised for first time in 1...</td>\n",
       "      <td>The University Grants Commission has decided t...</td>\n",
       "    </tr>\n",
       "    <tr>\n",
       "      <th>82399</th>\n",
       "      <td>1st Wimbledon was organised to fund repair of ...</td>\n",
       "      <td>The first ever Wimbledon competition, held in ...</td>\n",
       "    </tr>\n",
       "    <tr>\n",
       "      <th>62766</th>\n",
       "      <td>Court rules suspect's request for 'lawyer dog'...</td>\n",
       "      <td>A US court has ruled that a suspect who said, ...</td>\n",
       "    </tr>\n",
       "    <tr>\n",
       "      <th>26440</th>\n",
       "      <td>Fake news on YouTube caused us Ã¢ÂÂ¹500cr los...</td>\n",
       "      <td>Kerala-based Kalyan Jewellers has moved the Ke...</td>\n",
       "    </tr>\n",
       "    <tr>\n",
       "      <th>74160</th>\n",
       "      <td>I'm not calling a daddy to make a film for me:...</td>\n",
       "      <td>Ali Fazal, while talking about not having a go...</td>\n",
       "    </tr>\n",
       "    <tr>\n",
       "      <th>33686</th>\n",
       "      <td>HC apologises after lower court sent man to me...</td>\n",
       "      <td>Delhi High Court has apologised to a senior ci...</td>\n",
       "    </tr>\n",
       "  </tbody>\n",
       "</table>\n",
       "</div>"
      ],
      "text/plain": [
       "                                               headlines  \\\n",
       "62969  Best quotes by Shah Rukh Khan on his 52nd birt...   \n",
       "15380  Cricket's only forfeited Test was awarded to E...   \n",
       "69608                  What is an Initial Coin Offering?   \n",
       "18505  India, US sign deal on advanced technology exc...   \n",
       "61112  NET syllabus to be revised for first time in 1...   \n",
       "82399  1st Wimbledon was organised to fund repair of ...   \n",
       "62766  Court rules suspect's request for 'lawyer dog'...   \n",
       "26440  Fake news on YouTube caused us Ã¢ÂÂ¹500cr los...   \n",
       "74160  I'm not calling a daddy to make a film for me:...   \n",
       "33686  HC apologises after lower court sent man to me...   \n",
       "\n",
       "                                                    text  \n",
       "62969  Actor Shah Rukh Khan, who made his debut in Bo...  \n",
       "15380  The fourth England-Pakistan Test match, Test c...  \n",
       "69608  Initial Coin Offering (ICO) is a way for start...  \n",
       "18505  India signed the Communications Compatibility ...  \n",
       "61112  The University Grants Commission has decided t...  \n",
       "82399  The first ever Wimbledon competition, held in ...  \n",
       "62766  A US court has ruled that a suspect who said, ...  \n",
       "26440  Kerala-based Kalyan Jewellers has moved the Ke...  \n",
       "74160  Ali Fazal, while talking about not having a go...  \n",
       "33686  Delhi High Court has apologised to a senior ci...  "
      ]
     },
     "execution_count": 2,
     "metadata": {},
     "output_type": "execute_result"
    }
   ],
   "source": [
    "# 데이터 수집하기 \n",
    "\n",
    "import urllib.request\n",
    "urllib.request.urlretrieve(\"https://raw.githubusercontent.com/sunnysai12345/News_Summary/master/news_summary_more.csv\", filename=\"news_summary_more.csv\")\n",
    "data = pd.read_csv('news_summary_more.csv', encoding='iso-8859-1',nrows=100000)\n",
    "\n",
    "data.sample(10)"
   ]
  },
  {
   "cell_type": "markdown",
   "id": "b1868c99",
   "metadata": {},
   "source": [
    "이 데이터는 기사의 본문에 해당되는 text와 headlines 두 가지 열로 구성되어져 있습니다.  \n",
    "추상적 요약을 하는 경우에는 text를 본문, headlines를 이미 요약된 데이터로 삼아서 모델을 학습할 수 있어요.  \n",
    "추출적 요약을 하는 경우에는 오직 text열만을 사용하세요."
   ]
  },
  {
   "cell_type": "markdown",
   "id": "20b66fc3",
   "metadata": {},
   "source": [
    "# Step 2. 데이터 전처리하기 (추상적 요약)\n",
    "\n",
    "실습에서 사용된 전처리를 참고하여 각자 필요하다고 생각하는 전처리를 추가 사용하여 텍스트를 정규화 또는 정제해 보세요.  \n",
    "만약, 불용어 제거를 선택한다면 상대적으로 길이가 짧은 요약 데이터에 대해서도 불용어를 제거하는 것이 좋을지 고민해 보세요."
   ]
  },
  {
   "cell_type": "code",
   "execution_count": 3,
   "id": "741eb74d",
   "metadata": {},
   "outputs": [
    {
     "name": "stdout",
     "output_type": "stream",
     "text": [
      "text 열에서 중복을 배제한 유일한 샘플의 수 : 98360\n",
      "headlines 열에서 중복을 배제한 유일한 샘플의 수 : 98280\n"
     ]
    }
   ],
   "source": [
    "# 데이터의 중복확인 유무\n",
    "\n",
    "print('text 열에서 중복을 배제한 유일한 샘플의 수 :', data['text'].nunique())\n",
    "print('headlines 열에서 중복을 배제한 유일한 샘플의 수 :', data['headlines'].nunique())"
   ]
  },
  {
   "cell_type": "code",
   "execution_count": 4,
   "id": "0236a5a9",
   "metadata": {},
   "outputs": [
    {
     "name": "stdout",
     "output_type": "stream",
     "text": [
      "전체 샘플수 : 98360\n"
     ]
    }
   ],
   "source": [
    "# 중복 제거 \n",
    "\n",
    "data.drop_duplicates(subset = ['text'], inplace=True)\n",
    "print('전체 샘플수 :', (len(data)))"
   ]
  },
  {
   "cell_type": "code",
   "execution_count": 5,
   "id": "3fbc4d0b",
   "metadata": {},
   "outputs": [
    {
     "name": "stdout",
     "output_type": "stream",
     "text": [
      "headlines    0\n",
      "text         0\n",
      "dtype: int64\n",
      "전체 샘플수 : 98360\n"
     ]
    }
   ],
   "source": [
    "# Null값이 있는지 확인 및 Null값 제거\n",
    "\n",
    "print(data.isnull().sum())\n",
    "\n",
    "data.dropna(axis=0, inplace=True)\n",
    "print('전체 샘플수 :', (len(data)))"
   ]
  },
  {
   "cell_type": "code",
   "execution_count": 6,
   "id": "ce9cf173",
   "metadata": {},
   "outputs": [
    {
     "name": "stdout",
     "output_type": "stream",
     "text": [
      "정규화 사전의 수:  120\n"
     ]
    }
   ],
   "source": [
    "# 텍스트 정규화와 불용어 제거\n",
    "\n",
    "contractions = {\"ain't\": \"is not\", \"aren't\": \"are not\",\"can't\": \"cannot\", \"'cause\": \"because\", \"could've\": \"could have\", \"couldn't\": \"could not\",\n",
    "                           \"didn't\": \"did not\",  \"doesn't\": \"does not\", \"don't\": \"do not\", \"hadn't\": \"had not\", \"hasn't\": \"has not\", \"haven't\": \"have not\",\n",
    "                           \"he'd\": \"he would\",\"he'll\": \"he will\", \"he's\": \"he is\", \"how'd\": \"how did\", \"how'd'y\": \"how do you\", \"how'll\": \"how will\", \"how's\": \"how is\",\n",
    "                           \"I'd\": \"I would\", \"I'd've\": \"I would have\", \"I'll\": \"I will\", \"I'll've\": \"I will have\",\"I'm\": \"I am\", \"I've\": \"I have\", \"i'd\": \"i would\",\n",
    "                           \"i'd've\": \"i would have\", \"i'll\": \"i will\",  \"i'll've\": \"i will have\",\"i'm\": \"i am\", \"i've\": \"i have\", \"isn't\": \"is not\", \"it'd\": \"it would\",\n",
    "                           \"it'd've\": \"it would have\", \"it'll\": \"it will\", \"it'll've\": \"it will have\",\"it's\": \"it is\", \"let's\": \"let us\", \"ma'am\": \"madam\",\n",
    "                           \"mayn't\": \"may not\", \"might've\": \"might have\",\"mightn't\": \"might not\",\"mightn't've\": \"might not have\", \"must've\": \"must have\",\n",
    "                           \"mustn't\": \"must not\", \"mustn't've\": \"must not have\", \"needn't\": \"need not\", \"needn't've\": \"need not have\",\"o'clock\": \"of the clock\",\n",
    "                           \"oughtn't\": \"ought not\", \"oughtn't've\": \"ought not have\", \"shan't\": \"shall not\", \"sha'n't\": \"shall not\", \"shan't've\": \"shall not have\",\n",
    "                           \"she'd\": \"she would\", \"she'd've\": \"she would have\", \"she'll\": \"she will\", \"she'll've\": \"she will have\", \"she's\": \"she is\",\n",
    "                           \"should've\": \"should have\", \"shouldn't\": \"should not\", \"shouldn't've\": \"should not have\", \"so've\": \"so have\",\"so's\": \"so as\",\n",
    "                           \"this's\": \"this is\",\"that'd\": \"that would\", \"that'd've\": \"that would have\", \"that's\": \"that is\", \"there'd\": \"there would\",\n",
    "                           \"there'd've\": \"there would have\", \"there's\": \"there is\", \"here's\": \"here is\",\"they'd\": \"they would\", \"they'd've\": \"they would have\",\n",
    "                           \"they'll\": \"they will\", \"they'll've\": \"they will have\", \"they're\": \"they are\", \"they've\": \"they have\", \"to've\": \"to have\",\n",
    "                           \"wasn't\": \"was not\", \"we'd\": \"we would\", \"we'd've\": \"we would have\", \"we'll\": \"we will\", \"we'll've\": \"we will have\", \"we're\": \"we are\",\n",
    "                           \"we've\": \"we have\", \"weren't\": \"were not\", \"what'll\": \"what will\", \"what'll've\": \"what will have\", \"what're\": \"what are\",\n",
    "                           \"what's\": \"what is\", \"what've\": \"what have\", \"when's\": \"when is\", \"when've\": \"when have\", \"where'd\": \"where did\", \"where's\": \"where is\",\n",
    "                           \"where've\": \"where have\", \"who'll\": \"who will\", \"who'll've\": \"who will have\", \"who's\": \"who is\", \"who've\": \"who have\",\n",
    "                           \"why's\": \"why is\", \"why've\": \"why have\", \"will've\": \"will have\", \"won't\": \"will not\", \"won't've\": \"will not have\",\n",
    "                           \"would've\": \"would have\", \"wouldn't\": \"would not\", \"wouldn't've\": \"would not have\", \"y'all\": \"you all\",\n",
    "                           \"y'all'd\": \"you all would\",\"y'all'd've\": \"you all would have\",\"y'all're\": \"you all are\",\"y'all've\": \"you all have\",\n",
    "                           \"you'd\": \"you would\", \"you'd've\": \"you would have\", \"you'll\": \"you will\", \"you'll've\": \"you will have\",\n",
    "                           \"you're\": \"you are\", \"you've\": \"you have\"}\n",
    "\n",
    "print(\"정규화 사전의 수: \", len(contractions))"
   ]
  },
  {
   "cell_type": "code",
   "execution_count": 7,
   "id": "db514a4d",
   "metadata": {},
   "outputs": [
    {
     "name": "stdout",
     "output_type": "stream",
     "text": [
      "불용어 개수 : 179\n",
      "['i', 'me', 'my', 'myself', 'we', 'our', 'ours', 'ourselves', 'you', \"you're\", \"you've\", \"you'll\", \"you'd\", 'your', 'yours', 'yourself', 'yourselves', 'he', 'him', 'his', 'himself', 'she', \"she's\", 'her', 'hers', 'herself', 'it', \"it's\", 'its', 'itself', 'they', 'them', 'their', 'theirs', 'themselves', 'what', 'which', 'who', 'whom', 'this', 'that', \"that'll\", 'these', 'those', 'am', 'is', 'are', 'was', 'were', 'be', 'been', 'being', 'have', 'has', 'had', 'having', 'do', 'does', 'did', 'doing', 'a', 'an', 'the', 'and', 'but', 'if', 'or', 'because', 'as', 'until', 'while', 'of', 'at', 'by', 'for', 'with', 'about', 'against', 'between', 'into', 'through', 'during', 'before', 'after', 'above', 'below', 'to', 'from', 'up', 'down', 'in', 'out', 'on', 'off', 'over', 'under', 'again', 'further', 'then', 'once', 'here', 'there', 'when', 'where', 'why', 'how', 'all', 'any', 'both', 'each', 'few', 'more', 'most', 'other', 'some', 'such', 'no', 'nor', 'not', 'only', 'own', 'same', 'so', 'than', 'too', 'very', 's', 't', 'can', 'will', 'just', 'don', \"don't\", 'should', \"should've\", 'now', 'd', 'll', 'm', 'o', 're', 've', 'y', 'ain', 'aren', \"aren't\", 'couldn', \"couldn't\", 'didn', \"didn't\", 'doesn', \"doesn't\", 'hadn', \"hadn't\", 'hasn', \"hasn't\", 'haven', \"haven't\", 'isn', \"isn't\", 'ma', 'mightn', \"mightn't\", 'mustn', \"mustn't\", 'needn', \"needn't\", 'shan', \"shan't\", 'shouldn', \"shouldn't\", 'wasn', \"wasn't\", 'weren', \"weren't\", 'won', \"won't\", 'wouldn', \"wouldn't\"]\n"
     ]
    }
   ],
   "source": [
    "# 불용어 제거. NLTK 사용\n",
    "\n",
    "print('불용어 개수 :', len(stopwords.words('english') ))\n",
    "print(stopwords.words('english'))"
   ]
  },
  {
   "cell_type": "code",
   "execution_count": 8,
   "id": "a23e8d4b",
   "metadata": {},
   "outputs": [],
   "source": [
    "# 데이터 전처리 함수\n",
    "def preprocess_sentence(sentence, remove_stopwords=True):\n",
    "    sentence = sentence.lower() # 텍스트 소문자화\n",
    "    sentence = BeautifulSoup(sentence, \"lxml\").text # <br />, <a href = ...> 등의 html 태그 제거\n",
    "    sentence = re.sub(r'\\([^)]*\\)', '', sentence) # 괄호로 닫힌 문자열 (...) 제거 Ex) my husband (and myself!) for => my husband for\n",
    "    sentence = re.sub('\"','', sentence) # 쌍따옴표 \" 제거\n",
    "    sentence = ' '.join([contractions[t] if t in contractions else t for t in sentence.split(\" \")]) # 약어 정규화\n",
    "    sentence = re.sub(r\"'s\\b\",\"\", sentence) # 소유격 제거. Ex) roland's -> roland\n",
    "    sentence = re.sub(\"[^a-zA-Z]\", \" \", sentence) # 영어 외 문자(숫자, 특수문자 등) 공백으로 변환\n",
    "    sentence = re.sub('[m]{2,}', 'mm', sentence) # m이 3개 이상이면 2개로 변경. Ex) ummmmmmm yeah -> umm yeah\n",
    "    \n",
    "    # 불용어 제거 (Text)\n",
    "    if remove_stopwords:\n",
    "        tokens = ' '.join(word for word in sentence.split() if not word in stopwords.words('english') if len(word) > 1)\n",
    "    # 불용어 미제거 (Summary)\n",
    "    else:\n",
    "        tokens = ' '.join(word for word in sentence.split() if len(word) > 1)\n",
    "    return tokens"
   ]
  },
  {
   "cell_type": "code",
   "execution_count": 9,
   "id": "ef62d538",
   "metadata": {},
   "outputs": [
    {
     "name": "stdout",
     "output_type": "stream",
     "text": [
      "text 전처리 후 결과:  ['saurav kant alumnus upgrad iiit pg program machine learning artificial intelligence sr systems engineer infosys almost years work experience program upgrad degree career support helped transition data scientist tech mahindra salary hike upgrad online power learning powered lakh careers', 'kunal shah credit card bill payment platform cred gave users chance win free food swiggy one year pranav kaushik delhi techie bagged reward spending cred coins users get one cred coin per rupee bill paid used avail rewards brands like ixigo bookmyshow ubereats cult fit', 'new zealand defeated india wickets fourth odi hamilton thursday win first match five match odi series india lost international match rohit sharma captaincy consecutive victories dating back march match witnessed india getting seventh lowest total odi cricket history', 'aegon life iterm insurance plan customers enjoy tax benefits premiums paid save taxes plan provides life cover age years also customers options insure critical illnesses disability accidental death benefit rider life cover age years', 'speaking sexual harassment allegations rajkumar hirani sonam kapoor said known hirani many years true metoo movement get derailed metoo movement always believe woman case need reserve judgment added hirani accused assistant worked sanju']\n"
     ]
    }
   ],
   "source": [
    "# text를 전처리하고, 결과를 확인하기 위해서 상위 5개의 줄을 출력.\n",
    "\n",
    "clean_text = []\n",
    "\n",
    "for s in data['text']:\n",
    "    clean_text.append(preprocess_sentence(s))\n",
    "\n",
    "# 전처리 후 출력\n",
    "print(\"text 전처리 후 결과: \", clean_text[:5])"
   ]
  },
  {
   "cell_type": "code",
   "execution_count": 10,
   "id": "7c242261",
   "metadata": {},
   "outputs": [
    {
     "name": "stdout",
     "output_type": "stream",
     "text": [
      "headlines 전처리 후 결과:  ['upgrad learner switches to career in ml al with salary hike', 'delhi techie wins free food from swiggy for one year on cred', 'new zealand end rohit sharma led india match winning streak', 'aegon life iterm insurance plan helps customers save tax', 'have known hirani for yrs what if metoo claims are not true sonam']\n"
     ]
    }
   ],
   "source": [
    "#  headlines에 대해서 전처리 함수를 호출.\n",
    "\n",
    "clean_headline = []\n",
    "\n",
    "for s in data['headlines']:\n",
    "    clean_headline.append(preprocess_sentence(s, False))\n",
    "\n",
    "print(\"headlines 전처리 후 결과: \", clean_headline[:5])"
   ]
  },
  {
   "cell_type": "code",
   "execution_count": 11,
   "id": "fe755d3b",
   "metadata": {},
   "outputs": [],
   "source": [
    "data['text'] = clean_text\n",
    "data['headlines'] = clean_headline\n",
    "\n",
    "# 빈 값을 Null 값으로 변환\n",
    "data.replace('', np.nan, inplace=True)"
   ]
  },
  {
   "cell_type": "code",
   "execution_count": 12,
   "id": "f485041a",
   "metadata": {},
   "outputs": [
    {
     "data": {
      "text/plain": [
       "headlines    0\n",
       "text         0\n",
       "dtype: int64"
      ]
     },
     "execution_count": 12,
     "metadata": {},
     "output_type": "execute_result"
    }
   ],
   "source": [
    "# 이전과 같이 .isnull().sum()을 사용해서 Null 값이 생겼는지 확인.\n",
    "\n",
    "data.isnull().sum()  # Null값이 없음을 확인"
   ]
  },
  {
   "cell_type": "code",
   "execution_count": 13,
   "id": "c43c92d8",
   "metadata": {},
   "outputs": [
    {
     "name": "stdout",
     "output_type": "stream",
     "text": [
      "텍스트의 최소 길이 : 1\n",
      "텍스트의 최대 길이 : 60\n",
      "텍스트의 평균 길이 : 35.09968483123221\n",
      "요약의 최소 길이 : 1\n",
      "요약의 최대 길이 : 16\n",
      "요약의 평균 길이 : 9.299532330215534\n"
     ]
    },
    {
     "data": {
      "image/png": "[encoded data removed]",
      "text/plain": [
       "<Figure size 432x288 with 2 Axes>"
      ]
     },
     "metadata": {
      "needs_background": "light"
     },
     "output_type": "display_data"
    },
    {
     "data": {
      "image/png": "[encoded data removed]",
      "text/plain": [
       "<Figure size 432x288 with 1 Axes>"
      ]
     },
     "metadata": {
      "needs_background": "light"
     },
     "output_type": "display_data"
    },
    {
     "data": {
      "image/png": "[encoded data removed]",
      "text/plain": [
       "<Figure size 432x288 with 1 Axes>"
      ]
     },
     "metadata": {
      "needs_background": "light"
     },
     "output_type": "display_data"
    }
   ],
   "source": [
    "# 길이 분포 출력\n",
    "import matplotlib.pyplot as plt\n",
    "\n",
    "text_len = [len(s.split()) for s in data['text']]\n",
    "headline_len = [len(s.split()) for s in data['headlines']]\n",
    "\n",
    "print('텍스트의 최소 길이 : {}'.format(np.min(text_len)))\n",
    "print('텍스트의 최대 길이 : {}'.format(np.max(text_len)))\n",
    "print('텍스트의 평균 길이 : {}'.format(np.mean(text_len)))\n",
    "print('요약의 최소 길이 : {}'.format(np.min(headline_len)))\n",
    "print('요약의 최대 길이 : {}'.format(np.max(headline_len)))\n",
    "print('요약의 평균 길이 : {}'.format(np.mean(headline_len)))\n",
    "\n",
    "plt.subplot(1,2,1)\n",
    "plt.boxplot(text_len)\n",
    "plt.title('text')\n",
    "plt.subplot(1,2,2)\n",
    "plt.boxplot(headline_len)\n",
    "plt.title('headline')\n",
    "plt.tight_layout()\n",
    "plt.show()\n",
    "\n",
    "plt.title('text')\n",
    "plt.hist(text_len, bins = 40)\n",
    "plt.xlabel('length of samples')\n",
    "plt.ylabel('number of samples')\n",
    "plt.show()\n",
    "\n",
    "plt.title('headline')\n",
    "plt.hist(headline_len, bins = 40)\n",
    "plt.xlabel('length of samples')\n",
    "plt.ylabel('number of samples')\n",
    "plt.show()"
   ]
  },
  {
   "cell_type": "code",
   "execution_count": 14,
   "id": "052bde91",
   "metadata": {},
   "outputs": [],
   "source": [
    "# 그래프로부터 Text의 최대 길이와 Summary의 적절한 최대 길이 설정\n",
    "\n",
    "text_max_len = 40\n",
    "headline_max_len = 10"
   ]
  },
  {
   "cell_type": "code",
   "execution_count": 15,
   "id": "e4418711",
   "metadata": {},
   "outputs": [
    {
     "name": "stdout",
     "output_type": "stream",
     "text": [
      "전체 샘플 중 길이가 40 이하인 샘플의 비율: 0.9238714924766165\n",
      "전체 샘플 중 길이가 10 이하인 샘플의 비율: 0.8162972753151687\n"
     ]
    }
   ],
   "source": [
    "def below_threshold_len(max_len, nested_list):\n",
    "  cnt = 0\n",
    "  for s in nested_list:\n",
    "    if(len(s.split()) <= max_len):\n",
    "        cnt = cnt + 1\n",
    "  print('전체 샘플 중 길이가 %s 이하인 샘플의 비율: %s'%(max_len, (cnt / len(nested_list))))\n",
    "\n",
    "# 이렇게 만든 함수를 Text와 Summary에 적용해 우리가 결정한 임의의 길이가 몇%의 샘플까지 포함하는지 볼 수 있겠죠.\n",
    "below_threshold_len(text_max_len, data['text'])\n",
    "below_threshold_len(headline_max_len,  data['headlines'])"
   ]
  },
  {
   "cell_type": "code",
   "execution_count": 16,
   "id": "e2dc759f",
   "metadata": {},
   "outputs": [
    {
     "data": {
      "text/html": [
       "<div>\n",
       "<style scoped>\n",
       "    .dataframe tbody tr th:only-of-type {\n",
       "        vertical-align: middle;\n",
       "    }\n",
       "\n",
       "    .dataframe tbody tr th {\n",
       "        vertical-align: top;\n",
       "    }\n",
       "\n",
       "    .dataframe thead th {\n",
       "        text-align: right;\n",
       "    }\n",
       "</style>\n",
       "<table border=\"1\" class=\"dataframe\">\n",
       "  <thead>\n",
       "    <tr style=\"text-align: right;\">\n",
       "      <th></th>\n",
       "      <th>headlines</th>\n",
       "      <th>text</th>\n",
       "      <th>decoder_input</th>\n",
       "      <th>decoder_target</th>\n",
       "    </tr>\n",
       "  </thead>\n",
       "  <tbody>\n",
       "    <tr>\n",
       "      <th>0</th>\n",
       "      <td>upgrad learner switches to career in ml al wit...</td>\n",
       "      <td>saurav kant alumnus upgrad iiit pg program mac...</td>\n",
       "      <td>sostoken upgrad learner switches to career in ...</td>\n",
       "      <td>upgrad learner switches to career in ml al wit...</td>\n",
       "    </tr>\n",
       "    <tr>\n",
       "      <th>1</th>\n",
       "      <td>delhi techie wins free food from swiggy for on...</td>\n",
       "      <td>kunal shah credit card bill payment platform c...</td>\n",
       "      <td>sostoken delhi techie wins free food from swig...</td>\n",
       "      <td>delhi techie wins free food from swiggy for on...</td>\n",
       "    </tr>\n",
       "    <tr>\n",
       "      <th>2</th>\n",
       "      <td>new zealand end rohit sharma led india match w...</td>\n",
       "      <td>new zealand defeated india wickets fourth odi ...</td>\n",
       "      <td>sostoken new zealand end rohit sharma led indi...</td>\n",
       "      <td>new zealand end rohit sharma led india match w...</td>\n",
       "    </tr>\n",
       "    <tr>\n",
       "      <th>3</th>\n",
       "      <td>aegon life iterm insurance plan helps customer...</td>\n",
       "      <td>aegon life iterm insurance plan customers enjo...</td>\n",
       "      <td>sostoken aegon life iterm insurance plan helps...</td>\n",
       "      <td>aegon life iterm insurance plan helps customer...</td>\n",
       "    </tr>\n",
       "    <tr>\n",
       "      <th>4</th>\n",
       "      <td>have known hirani for yrs what if metoo claims...</td>\n",
       "      <td>speaking sexual harassment allegations rajkuma...</td>\n",
       "      <td>sostoken have known hirani for yrs what if met...</td>\n",
       "      <td>have known hirani for yrs what if metoo claims...</td>\n",
       "    </tr>\n",
       "  </tbody>\n",
       "</table>\n",
       "</div>"
      ],
      "text/plain": [
       "                                           headlines  \\\n",
       "0  upgrad learner switches to career in ml al wit...   \n",
       "1  delhi techie wins free food from swiggy for on...   \n",
       "2  new zealand end rohit sharma led india match w...   \n",
       "3  aegon life iterm insurance plan helps customer...   \n",
       "4  have known hirani for yrs what if metoo claims...   \n",
       "\n",
       "                                                text  \\\n",
       "0  saurav kant alumnus upgrad iiit pg program mac...   \n",
       "1  kunal shah credit card bill payment platform c...   \n",
       "2  new zealand defeated india wickets fourth odi ...   \n",
       "3  aegon life iterm insurance plan customers enjo...   \n",
       "4  speaking sexual harassment allegations rajkuma...   \n",
       "\n",
       "                                       decoder_input  \\\n",
       "0  sostoken upgrad learner switches to career in ...   \n",
       "1  sostoken delhi techie wins free food from swig...   \n",
       "2  sostoken new zealand end rohit sharma led indi...   \n",
       "3  sostoken aegon life iterm insurance plan helps...   \n",
       "4  sostoken have known hirani for yrs what if met...   \n",
       "\n",
       "                                      decoder_target  \n",
       "0  upgrad learner switches to career in ml al wit...  \n",
       "1  delhi techie wins free food from swiggy for on...  \n",
       "2  new zealand end rohit sharma led india match w...  \n",
       "3  aegon life iterm insurance plan helps customer...  \n",
       "4  have known hirani for yrs what if metoo claims...  "
      ]
     },
     "execution_count": 16,
     "metadata": {},
     "output_type": "execute_result"
    }
   ],
   "source": [
    "# 요약 데이터에는 시작 토큰과 종료 토큰을 추가한다.\n",
    "data['decoder_input'] = data['headlines'].apply(lambda x : 'sostoken '+ x)\n",
    "data['decoder_target'] = data['headlines'].apply(lambda x : x + ' eostoken')\n",
    "data.head()"
   ]
  },
  {
   "cell_type": "code",
   "execution_count": 17,
   "id": "caf15dd7",
   "metadata": {},
   "outputs": [],
   "source": [
    "# 인코더의 입력, 디코더의 입력과 레이블을 각각 다시 Numpy 타입으로 저장해 줄게요.\n",
    "\n",
    "encoder_input = np.array(data['text']) # 인코더의 입력\n",
    "decoder_input = np.array(data['decoder_input']) # 디코더의 입력\n",
    "decoder_target = np.array(data['decoder_target']) # 디코더의 레이블"
   ]
  },
  {
   "cell_type": "code",
   "execution_count": 18,
   "id": "767a7dbd",
   "metadata": {},
   "outputs": [
    {
     "name": "stdout",
     "output_type": "stream",
     "text": [
      "[70876 93605 20134 ...  2730 58997 70986]\n"
     ]
    }
   ],
   "source": [
    "# encoder_input과 크기와 형태가 같은 순서가 섞인 정수 시퀀스 만들기\n",
    "\n",
    "indices = np.arange(encoder_input.shape[0])\n",
    "np.random.shuffle(indices)\n",
    "print(indices)"
   ]
  },
  {
   "cell_type": "code",
   "execution_count": 19,
   "id": "90c840c9",
   "metadata": {},
   "outputs": [],
   "source": [
    "# 이 정수 시퀀스를 이용해 다시 데이터의 샘플 순서를 정의해 주면 잘 섞인 샘플이 되겠죠.\n",
    "\n",
    "encoder_input = encoder_input[indices]\n",
    "decoder_input = decoder_input[indices]\n",
    "decoder_target = decoder_target[indices]"
   ]
  },
  {
   "cell_type": "code",
   "execution_count": 20,
   "id": "611b967c",
   "metadata": {},
   "outputs": [
    {
     "name": "stdout",
     "output_type": "stream",
     "text": [
      "테스트 데이터의 수 : 19672\n"
     ]
    }
   ],
   "source": [
    "# 섞인 데이터를 8:2의 비율로 훈련 데이터와 테스트 데이터로 분리.\n",
    "\n",
    "n_of_val = int(len(encoder_input)*0.2)\n",
    "print('테스트 데이터의 수 :', n_of_val)"
   ]
  },
  {
   "cell_type": "code",
   "execution_count": 21,
   "id": "7530fe54",
   "metadata": {},
   "outputs": [
    {
     "name": "stdout",
     "output_type": "stream",
     "text": [
      "훈련 데이터의 개수 : 78688\n",
      "훈련 레이블의 개수 : 78688\n",
      "테스트 데이터의 개수 : 19672\n",
      "테스트 레이블의 개수 : 19672\n"
     ]
    }
   ],
   "source": [
    "# 이렇게 정의한 테스트 데이터의 개수를 이용해 전체 데이터를 양분.\n",
    "\n",
    "encoder_input_train = encoder_input[:-n_of_val]\n",
    "decoder_input_train = decoder_input[:-n_of_val]\n",
    "decoder_target_train = decoder_target[:-n_of_val]\n",
    "\n",
    "encoder_input_test = encoder_input[-n_of_val:]\n",
    "decoder_input_test = decoder_input[-n_of_val:]\n",
    "decoder_target_test = decoder_target[-n_of_val:]\n",
    "\n",
    "print('훈련 데이터의 개수 :', len(encoder_input_train))\n",
    "print('훈련 레이블의 개수 :', len(decoder_input_train))\n",
    "print('테스트 데이터의 개수 :', len(encoder_input_test))\n",
    "print('테스트 레이블의 개수 :', len(decoder_input_test))"
   ]
  },
  {
   "cell_type": "code",
   "execution_count": 22,
   "id": "cc04d178",
   "metadata": {},
   "outputs": [],
   "source": [
    "# Keras의 토크나이저를 사용하면, 입력된 훈련 데이터로부터 단어 집합 만들기\n",
    "\n",
    "src_tokenizer = Tokenizer() # 토크나이저 정의\n",
    "src_tokenizer.fit_on_texts(encoder_input_train) # 입력된 데이터로부터 단어 집합 생성"
   ]
  },
  {
   "cell_type": "code",
   "execution_count": 23,
   "id": "53ab2407",
   "metadata": {},
   "outputs": [
    {
     "name": "stdout",
     "output_type": "stream",
     "text": [
      "단어 집합(vocabulary)의 크기 : 69674\n",
      "등장 빈도가 6번 이하인 희귀 단어의 수: 47532\n",
      "단어 집합에서 희귀 단어를 제외시킬 경우의 단어 집합의 크기 22142\n",
      "단어 집합에서 희귀 단어의 비율: 68.22057008353187\n",
      "전체 등장 빈도에서 희귀 단어 등장 빈도 비율: 3.4925249680769315\n"
     ]
    }
   ],
   "source": [
    "# 등장 빈도수가 7회 미만인 단어들이 이 데이터에서 얼만큼의 비중을 차지하는지 확인.\n",
    "\n",
    "threshold = 7\n",
    "total_cnt = len(src_tokenizer.word_index) # 단어의 수\n",
    "rare_cnt = 0 # 등장 빈도수가 threshold보다 작은 단어의 개수를 카운트\n",
    "total_freq = 0 # 훈련 데이터의 전체 단어 빈도수 총 합\n",
    "rare_freq = 0 # 등장 빈도수가 threshold보다 작은 단어의 등장 빈도수의 총 합\n",
    "\n",
    "# 단어와 빈도수의 쌍(pair)을 key와 value로 받는다.\n",
    "for key, value in src_tokenizer.word_counts.items():\n",
    "    total_freq = total_freq + value\n",
    "\n",
    "    # 단어의 등장 빈도수가 threshold보다 작으면\n",
    "    if(value < threshold):\n",
    "        rare_cnt = rare_cnt + 1\n",
    "        rare_freq = rare_freq + value\n",
    "\n",
    "print('단어 집합(vocabulary)의 크기 :', total_cnt)\n",
    "print('등장 빈도가 %s번 이하인 희귀 단어의 수: %s'%(threshold - 1, rare_cnt))\n",
    "print('단어 집합에서 희귀 단어를 제외시킬 경우의 단어 집합의 크기 %s'%(total_cnt - rare_cnt))\n",
    "print(\"단어 집합에서 희귀 단어의 비율:\", (rare_cnt / total_cnt)*100)\n",
    "print(\"전체 등장 빈도에서 희귀 단어 등장 빈도 비율:\", (rare_freq / total_freq)*100)"
   ]
  },
  {
   "cell_type": "code",
   "execution_count": 24,
   "id": "2b87cb0b",
   "metadata": {},
   "outputs": [],
   "source": [
    "# 토크나이저를 정의할 때 num_words의 값을 정해주면, 단어 집합의 크기를 제한할 수 있어요.\n",
    "src_vocab = 23000\n",
    "src_tokenizer = Tokenizer(num_words=src_vocab) \n",
    "src_tokenizer.fit_on_texts(encoder_input_train) "
   ]
  },
  {
   "cell_type": "code",
   "execution_count": 25,
   "id": "38e36c31",
   "metadata": {},
   "outputs": [
    {
     "name": "stdout",
     "output_type": "stream",
     "text": [
      "[[288, 278, 1127, 729, 8697, 3454, 14756, 4914, 5085, 82, 342, 1515, 1617, 3411, 2554, 314, 170, 187, 373, 1233, 591, 86, 288, 278, 1127, 466, 7772, 278, 2316, 449, 910, 339, 1400, 82, 1617, 74, 18417, 1400], [598, 6551, 5696, 73, 70, 3031, 10, 389, 509, 4621, 64, 6201, 300, 9298, 2084, 33, 598, 347, 4258, 5540, 2442, 50, 1253, 3112, 2863, 64, 512, 3008, 194, 80, 14258, 17469, 70, 2864, 3521], [6127, 3102, 1123, 10033, 91, 959, 2865, 684, 259, 22143, 4583, 12980, 278, 2784, 1635, 1013, 6262, 10692, 12980, 24, 278, 1496, 15994, 270, 1487, 5995, 12980, 6, 24, 241, 3522, 480, 121, 410]]\n"
     ]
    }
   ],
   "source": [
    "# 텍스트 시퀀스를 정수 시퀀스로 변환\n",
    "encoder_input_train = src_tokenizer.texts_to_sequences(encoder_input_train) \n",
    "encoder_input_test = src_tokenizer.texts_to_sequences(encoder_input_test)\n",
    "\n",
    "# 잘 진행되었는지 샘플 출력\n",
    "print(encoder_input_train[:3])"
   ]
  },
  {
   "cell_type": "code",
   "execution_count": 26,
   "id": "bdece110",
   "metadata": {},
   "outputs": [],
   "source": [
    "# headline 데이터에 대해서도 동일한 작업\n",
    "\n",
    "tar_tokenizer = Tokenizer()\n",
    "tar_tokenizer.fit_on_texts(decoder_input_train)"
   ]
  },
  {
   "cell_type": "code",
   "execution_count": 27,
   "id": "1b6af1f4",
   "metadata": {},
   "outputs": [
    {
     "name": "stdout",
     "output_type": "stream",
     "text": [
      "단어 집합(vocabulary)의 크기 : 30142\n",
      "등장 빈도가 5번 이하인 희귀 단어의 수: 19713\n",
      "단어 집합에서 희귀 단어를 제외시킬 경우의 단어 집합의 크기 10429\n",
      "단어 집합에서 희귀 단어의 비율: 65.40043792714485\n",
      "전체 등장 빈도에서 희귀 단어 등장 빈도 비율: 4.637477563778123\n"
     ]
    }
   ],
   "source": [
    "threshold = 6\n",
    "total_cnt = len(tar_tokenizer.word_index) # 단어의 수\n",
    "rare_cnt = 0 # 등장 빈도수가 threshold보다 작은 단어의 개수를 카운트\n",
    "total_freq = 0 # 훈련 데이터의 전체 단어 빈도수 총 합\n",
    "rare_freq = 0 # 등장 빈도수가 threshold보다 작은 단어의 등장 빈도수의 총 합\n",
    "\n",
    "# 단어와 빈도수의 쌍(pair)을 key와 value로 받는다.\n",
    "for key, value in tar_tokenizer.word_counts.items():\n",
    "    total_freq = total_freq + value\n",
    "\n",
    "    # 단어의 등장 빈도수가 threshold보다 작으면\n",
    "    if(value < threshold):\n",
    "        rare_cnt = rare_cnt + 1\n",
    "        rare_freq = rare_freq + value\n",
    "\n",
    "print('단어 집합(vocabulary)의 크기 :', total_cnt)\n",
    "print('등장 빈도가 %s번 이하인 희귀 단어의 수: %s'%(threshold - 1, rare_cnt))\n",
    "print('단어 집합에서 희귀 단어를 제외시킬 경우의 단어 집합의 크기 %s'%(total_cnt - rare_cnt))\n",
    "print(\"단어 집합에서 희귀 단어의 비율:\", (rare_cnt / total_cnt)*100)\n",
    "print(\"전체 등장 빈도에서 희귀 단어 등장 빈도 비율:\", (rare_freq / total_freq)*100)"
   ]
  },
  {
   "cell_type": "code",
   "execution_count": 28,
   "id": "585bde7c",
   "metadata": {},
   "outputs": [
    {
     "name": "stdout",
     "output_type": "stream",
     "text": [
      "input\n",
      "input  [[1, 928, 722, 159, 98, 959, 4, 1684, 203, 526, 237], [1, 2753, 1063, 60, 973, 1002, 1994, 39, 19, 3894, 3464], [1, 2585, 159, 238, 2316, 16, 2692, 1176, 12, 1708, 5891], [1, 66, 207, 293, 15, 570, 5, 647, 289, 3789], [1, 40, 26, 2535, 497, 594, 17, 2170, 290, 5, 259]]\n",
      "target\n",
      "decoder  [[928, 722, 159, 98, 959, 4, 1684, 203, 526, 237, 2], [2753, 1063, 60, 973, 1002, 1994, 39, 19, 3894, 3464, 2], [2585, 159, 238, 2316, 16, 2692, 1176, 12, 1708, 5891, 2], [66, 207, 293, 15, 570, 5, 647, 289, 3789, 2], [40, 26, 2535, 497, 594, 17, 2170, 290, 5, 259, 2]]\n"
     ]
    }
   ],
   "source": [
    "tar_vocab = 10000\n",
    "tar_tokenizer = Tokenizer(num_words=tar_vocab) \n",
    "tar_tokenizer.fit_on_texts(decoder_input_train)\n",
    "tar_tokenizer.fit_on_texts(decoder_target_train)\n",
    "\n",
    "# 텍스트 시퀀스를 정수 시퀀스로 변환\n",
    "decoder_input_train = tar_tokenizer.texts_to_sequences(decoder_input_train) \n",
    "decoder_target_train = tar_tokenizer.texts_to_sequences(decoder_target_train)\n",
    "decoder_input_test = tar_tokenizer.texts_to_sequences(decoder_input_test)\n",
    "decoder_target_test = tar_tokenizer.texts_to_sequences(decoder_target_test)\n",
    "\n",
    "# 잘 변환되었는지 확인\n",
    "print('input')\n",
    "print('input ',decoder_input_train[:5])\n",
    "print('target')\n",
    "print('decoder ',decoder_target_train[:5])"
   ]
  },
  {
   "cell_type": "code",
   "execution_count": 29,
   "id": "5d56378c",
   "metadata": {},
   "outputs": [
    {
     "name": "stdout",
     "output_type": "stream",
     "text": [
      "삭제할 훈련 데이터의 개수 : 0\n",
      "삭제할 테스트 데이터의 개수 : 0\n",
      "훈련 데이터의 개수 : 78688\n",
      "훈련 레이블의 개수 : 78688\n",
      "테스트 데이터의 개수 : 19672\n",
      "테스트 레이블의 개수 : 19672\n"
     ]
    }
   ],
   "source": [
    "\n",
    "drop_train = [index for index, sentence in enumerate(decoder_input_train) if len(sentence) == 1]\n",
    "drop_test = [index for index, sentence in enumerate(decoder_input_test) if len(sentence) == 1]\n",
    "\n",
    "print('삭제할 훈련 데이터의 개수 :', len(drop_train))\n",
    "print('삭제할 테스트 데이터의 개수 :', len(drop_test))\n",
    "\n",
    "encoder_input_train = [sentence for index, sentence in enumerate(encoder_input_train) if index not in drop_train]\n",
    "decoder_input_train = [sentence for index, sentence in enumerate(decoder_input_train) if index not in drop_train]\n",
    "decoder_target_train = [sentence for index, sentence in enumerate(decoder_target_train) if index not in drop_train]\n",
    "\n",
    "encoder_input_test = [sentence for index, sentence in enumerate(encoder_input_test) if index not in drop_test]\n",
    "decoder_input_test = [sentence for index, sentence in enumerate(decoder_input_test) if index not in drop_test]\n",
    "decoder_target_test = [sentence for index, sentence in enumerate(decoder_target_test) if index not in drop_test]\n",
    "\n",
    "print('훈련 데이터의 개수 :', len(encoder_input_train))\n",
    "print('훈련 레이블의 개수 :', len(decoder_input_train))\n",
    "print('테스트 데이터의 개수 :', len(encoder_input_test))\n",
    "print('테스트 레이블의 개수 :', len(decoder_input_test))"
   ]
  },
  {
   "cell_type": "code",
   "execution_count": 30,
   "id": "d9695ba0",
   "metadata": {},
   "outputs": [],
   "source": [
    "# 패딩하기\n",
    "\n",
    "encoder_input_train = pad_sequences(encoder_input_train, maxlen=text_max_len, padding='post')\n",
    "encoder_input_test = pad_sequences(encoder_input_test, maxlen=text_max_len, padding='post')\n",
    "decoder_input_train = pad_sequences(decoder_input_train, maxlen=headline_max_len, padding='post')\n",
    "decoder_target_train = pad_sequences(decoder_target_train, maxlen=headline_max_len, padding='post')\n",
    "decoder_input_test = pad_sequences(decoder_input_test, maxlen=headline_max_len, padding='post')\n",
    "decoder_target_test = pad_sequences(decoder_target_test, maxlen=headline_max_len, padding='post')"
   ]
  },
  {
   "cell_type": "code",
   "execution_count": 31,
   "id": "fc105077",
   "metadata": {},
   "outputs": [
    {
     "name": "stdout",
     "output_type": "stream",
     "text": [
      "WARNING:tensorflow:Layer lstm will not use cuDNN kernels since it doesn't meet the criteria. It will use a generic GPU kernel as fallback when running on GPU.\n",
      "WARNING:tensorflow:Layer lstm_1 will not use cuDNN kernels since it doesn't meet the criteria. It will use a generic GPU kernel as fallback when running on GPU.\n",
      "WARNING:tensorflow:Layer lstm_2 will not use cuDNN kernels since it doesn't meet the criteria. It will use a generic GPU kernel as fallback when running on GPU.\n"
     ]
    }
   ],
   "source": [
    "# 우선 함수형 API를 이용해서 인코더를 설계.\n",
    "\n",
    "from tensorflow.keras.layers import Input, LSTM, Embedding, Dense, Concatenate, TimeDistributed\n",
    "from tensorflow.keras.models import Model\n",
    "from tensorflow.keras.callbacks import EarlyStopping, ModelCheckpoint\n",
    "\n",
    "\n",
    "# 인코더 설계 시작\n",
    "embedding_dim = 128\n",
    "hidden_size = 256\n",
    "\n",
    "# 인코더\n",
    "encoder_inputs = Input(shape=(text_max_len,))\n",
    "\n",
    "# 인코더의 임베딩 층\n",
    "enc_emb = Embedding(src_vocab, embedding_dim)(encoder_inputs)\n",
    "\n",
    "# 인코더의 LSTM 1\n",
    "encoder_lstm1 = LSTM(hidden_size, return_sequences=True, return_state=True ,dropout = 0.4, recurrent_dropout = 0.4)\n",
    "encoder_output1, state_h1, state_c1 = encoder_lstm1(enc_emb)\n",
    "\n",
    "# 인코더의 LSTM 2\n",
    "encoder_lstm2 = LSTM(hidden_size, return_sequences=True, return_state=True, dropout=0.4, recurrent_dropout=0.4)\n",
    "encoder_output2, state_h2, state_c2 = encoder_lstm2(encoder_output1)\n",
    "\n",
    "# 인코더의 LSTM 3\n",
    "encoder_lstm3 = LSTM(hidden_size, return_state=True, return_sequences=True, dropout=0.4, recurrent_dropout=0.4)\n",
    "encoder_outputs, state_h, state_c= encoder_lstm3(encoder_output2)"
   ]
  },
  {
   "cell_type": "code",
   "execution_count": 32,
   "id": "ba1217b4",
   "metadata": {},
   "outputs": [
    {
     "name": "stdout",
     "output_type": "stream",
     "text": [
      "WARNING:tensorflow:Layer lstm_3 will not use cuDNN kernels since it doesn't meet the criteria. It will use a generic GPU kernel as fallback when running on GPU.\n"
     ]
    }
   ],
   "source": [
    "# 디코더 설계\n",
    "decoder_inputs = Input(shape=(None,))\n",
    "\n",
    "# 디코더의 임베딩 층\n",
    "dec_emb_layer = Embedding(tar_vocab, embedding_dim)\n",
    "dec_emb = dec_emb_layer(decoder_inputs)\n",
    "\n",
    "# 디코더의 LSTM\n",
    "decoder_lstm = LSTM(hidden_size, return_sequences=True, return_state=True, dropout=0.4, recurrent_dropout=0.2)\n",
    "decoder_outputs, _, _ = decoder_lstm(dec_emb, initial_state=[state_h, state_c])"
   ]
  },
  {
   "cell_type": "code",
   "execution_count": 33,
   "id": "691e67cb",
   "metadata": {},
   "outputs": [
    {
     "name": "stdout",
     "output_type": "stream",
     "text": [
      "Model: \"model\"\n",
      "__________________________________________________________________________________________________\n",
      "Layer (type)                    Output Shape         Param #     Connected to                     \n",
      "==================================================================================================\n",
      "input_1 (InputLayer)            [(None, 40)]         0                                            \n",
      "__________________________________________________________________________________________________\n",
      "embedding (Embedding)           (None, 40, 128)      2944000     input_1[0][0]                    \n",
      "__________________________________________________________________________________________________\n",
      "lstm (LSTM)                     [(None, 40, 256), (N 394240      embedding[0][0]                  \n",
      "__________________________________________________________________________________________________\n",
      "input_2 (InputLayer)            [(None, None)]       0                                            \n",
      "__________________________________________________________________________________________________\n",
      "lstm_1 (LSTM)                   [(None, 40, 256), (N 525312      lstm[0][0]                       \n",
      "__________________________________________________________________________________________________\n",
      "embedding_1 (Embedding)         (None, None, 128)    1280000     input_2[0][0]                    \n",
      "__________________________________________________________________________________________________\n",
      "lstm_2 (LSTM)                   [(None, 40, 256), (N 525312      lstm_1[0][0]                     \n",
      "__________________________________________________________________________________________________\n",
      "lstm_3 (LSTM)                   [(None, None, 256),  394240      embedding_1[0][0]                \n",
      "                                                                 lstm_2[0][1]                     \n",
      "                                                                 lstm_2[0][2]                     \n",
      "__________________________________________________________________________________________________\n",
      "dense (Dense)                   (None, None, 10000)  2570000     lstm_3[0][0]                     \n",
      "==================================================================================================\n",
      "Total params: 8,633,104\n",
      "Trainable params: 8,633,104\n",
      "Non-trainable params: 0\n",
      "__________________________________________________________________________________________________\n"
     ]
    }
   ],
   "source": [
    "# 디코더의 출력층\n",
    "decoder_softmax_layer = Dense(tar_vocab, activation='softmax')\n",
    "decoder_softmax_outputs = decoder_softmax_layer(decoder_outputs) \n",
    "\n",
    "# 모델 정의\n",
    "model = Model([encoder_inputs, decoder_inputs], decoder_softmax_outputs)\n",
    "model.summary()"
   ]
  },
  {
   "cell_type": "markdown",
   "id": "4472e635",
   "metadata": {},
   "source": [
    "# Step 3. 어텐션 메커니즘 사용하기 (추상적 요약)\n",
    "\n",
    "일반적인 seq2seq보다는 어텐션 메커니즘을 사용한 seq2seq를 사용하는 것이 더 나은 성능을 얻을 수 있어요.  \n",
    "실습 내용을 참고하여 어텐션 메커니즘을 사용한 seq2seq를 설계해 보세요."
   ]
  },
  {
   "cell_type": "code",
   "execution_count": 34,
   "id": "e35050b4",
   "metadata": {},
   "outputs": [
    {
     "name": "stdout",
     "output_type": "stream",
     "text": [
      "Model: \"model_1\"\n",
      "__________________________________________________________________________________________________\n",
      "Layer (type)                    Output Shape         Param #     Connected to                     \n",
      "==================================================================================================\n",
      "input_1 (InputLayer)            [(None, 40)]         0                                            \n",
      "__________________________________________________________________________________________________\n",
      "embedding (Embedding)           (None, 40, 128)      2944000     input_1[0][0]                    \n",
      "__________________________________________________________________________________________________\n",
      "lstm (LSTM)                     [(None, 40, 256), (N 394240      embedding[0][0]                  \n",
      "__________________________________________________________________________________________________\n",
      "input_2 (InputLayer)            [(None, None)]       0                                            \n",
      "__________________________________________________________________________________________________\n",
      "lstm_1 (LSTM)                   [(None, 40, 256), (N 525312      lstm[0][0]                       \n",
      "__________________________________________________________________________________________________\n",
      "embedding_1 (Embedding)         (None, None, 128)    1280000     input_2[0][0]                    \n",
      "__________________________________________________________________________________________________\n",
      "lstm_2 (LSTM)                   [(None, 40, 256), (N 525312      lstm_1[0][0]                     \n",
      "__________________________________________________________________________________________________\n",
      "lstm_3 (LSTM)                   [(None, None, 256),  394240      embedding_1[0][0]                \n",
      "                                                                 lstm_2[0][1]                     \n",
      "                                                                 lstm_2[0][2]                     \n",
      "__________________________________________________________________________________________________\n",
      "attention_layer (AdditiveAttent (None, None, 256)    256         lstm_3[0][0]                     \n",
      "                                                                 lstm_2[0][0]                     \n",
      "__________________________________________________________________________________________________\n",
      "concat_layer (Concatenate)      (None, None, 512)    0           lstm_3[0][0]                     \n",
      "                                                                 attention_layer[0][0]            \n",
      "__________________________________________________________________________________________________\n",
      "dense_1 (Dense)                 (None, None, 10000)  5130000     concat_layer[0][0]               \n",
      "==================================================================================================\n",
      "Total params: 11,193,360\n",
      "Trainable params: 11,193,360\n",
      "Non-trainable params: 0\n",
      "__________________________________________________________________________________________________\n"
     ]
    }
   ],
   "source": [
    "from tensorflow.keras.layers import AdditiveAttention\n",
    "\n",
    "# 어텐션 층(어텐션 함수)\n",
    "attn_layer = AdditiveAttention(name='attention_layer')\n",
    "\n",
    "# 인코더와 디코더의 모든 time step의 hidden state를 어텐션 층에 전달하고 결과를 리턴\n",
    "attn_out = attn_layer([decoder_outputs, encoder_outputs])\n",
    "\n",
    "\n",
    "# 어텐션의 결과와 디코더의 hidden state들을 연결\n",
    "decoder_concat_input = Concatenate(axis=-1, name='concat_layer')([decoder_outputs, attn_out])\n",
    "\n",
    "# 디코더의 출력층\n",
    "decoder_softmax_layer = Dense(tar_vocab, activation='softmax')\n",
    "decoder_softmax_outputs = decoder_softmax_layer(decoder_concat_input)\n",
    "\n",
    "# 모델 정의\n",
    "model = Model([encoder_inputs, decoder_inputs], decoder_softmax_outputs)\n",
    "model.summary()"
   ]
  },
  {
   "cell_type": "code",
   "execution_count": 35,
   "id": "0bae0ce1",
   "metadata": {},
   "outputs": [
    {
     "name": "stdout",
     "output_type": "stream",
     "text": [
      "Epoch 1/20\n",
      "308/308 [==============================] - 203s 605ms/step - loss: 6.3519 - val_loss: 5.9754\n",
      "Epoch 2/20\n",
      "308/308 [==============================] - 186s 605ms/step - loss: 5.7463 - val_loss: 5.5678\n",
      "Epoch 3/20\n",
      "308/308 [==============================] - 185s 601ms/step - loss: 5.3718 - val_loss: 5.2356\n",
      "Epoch 4/20\n",
      "308/308 [==============================] - 184s 597ms/step - loss: 5.0802 - val_loss: 5.0145\n",
      "Epoch 5/20\n",
      "308/308 [==============================] - 184s 597ms/step - loss: 4.8493 - val_loss: 4.8534\n",
      "Epoch 6/20\n",
      "308/308 [==============================] - 184s 596ms/step - loss: 4.6534 - val_loss: 4.7234\n",
      "Epoch 7/20\n",
      "308/308 [==============================] - 186s 604ms/step - loss: 4.4855 - val_loss: 4.6164\n",
      "Epoch 8/20\n",
      "308/308 [==============================] - 185s 599ms/step - loss: 4.3390 - val_loss: 4.5335\n",
      "Epoch 9/20\n",
      "308/308 [==============================] - 184s 598ms/step - loss: 4.2144 - val_loss: 4.4635\n",
      "Epoch 10/20\n",
      "308/308 [==============================] - 184s 599ms/step - loss: 4.0991 - val_loss: 4.4034\n",
      "Epoch 11/20\n",
      "308/308 [==============================] - 184s 597ms/step - loss: 4.0002 - val_loss: 4.3715\n",
      "Epoch 12/20\n",
      "308/308 [==============================] - 184s 597ms/step - loss: 3.9088 - val_loss: 4.3181\n",
      "Epoch 13/20\n",
      "308/308 [==============================] - 185s 600ms/step - loss: 3.8253 - val_loss: 4.2801\n",
      "Epoch 14/20\n",
      "308/308 [==============================] - 188s 612ms/step - loss: 3.7514 - val_loss: 4.2476\n",
      "Epoch 15/20\n",
      "308/308 [==============================] - 187s 608ms/step - loss: 3.6789 - val_loss: 4.2235\n",
      "Epoch 16/20\n",
      "308/308 [==============================] - 188s 609ms/step - loss: 3.6124 - val_loss: 4.2045\n",
      "Epoch 17/20\n",
      "308/308 [==============================] - 185s 601ms/step - loss: 3.5509 - val_loss: 4.2022\n",
      "Epoch 18/20\n",
      "308/308 [==============================] - 184s 597ms/step - loss: 3.4914 - val_loss: 4.1811\n",
      "Epoch 19/20\n",
      "308/308 [==============================] - 183s 595ms/step - loss: 3.4397 - val_loss: 4.1713\n",
      "Epoch 20/20\n",
      "308/308 [==============================] - 186s 605ms/step - loss: 3.3886 - val_loss: 4.1626\n"
     ]
    }
   ],
   "source": [
    "# 모델 훈련하기\n",
    "\n",
    "model.compile(optimizer='rmsprop', loss='sparse_categorical_crossentropy')\n",
    "\n",
    "es = EarlyStopping(monitor='val_loss', patience=2, verbose=1) \n",
    "# 위 코드에서는 val_loss(검증 데이터의 손실)을 관찰하다가, 검증 데이터의 손실이 줄어들지 않고 증가하는 현상이\n",
    "# 2회(patience=2) 관측되면 학습을 멈추도록 설정돼 있어요. EarlyStopping이 작동한다면 epochs가 아무리 크게 설정되어 있어도\n",
    "#모델 훈련을 최적점에서 멈출 수 있겠네요.\n",
    "\n",
    "history = model.fit(x=[encoder_input_train, decoder_input_train], y=decoder_target_train, \\\n",
    "          validation_data=([encoder_input_test, decoder_input_test], decoder_target_test), \\\n",
    "          batch_size=256, callbacks=[es], epochs=20)"
   ]
  },
  {
   "cell_type": "code",
   "execution_count": 36,
   "id": "e2d98a69",
   "metadata": {},
   "outputs": [
    {
     "data": {
      "image/png": "[encoded data removed]",
      "text/plain": [
       "<Figure size 432x288 with 1 Axes>"
      ]
     },
     "metadata": {
      "needs_background": "light"
     },
     "output_type": "display_data"
    }
   ],
   "source": [
    "# 훈련 데이터의 손실과 검증 데이터의 손실이 줄어드는 과정 시각화 \n",
    "\n",
    "plt.plot(history.history['loss'], label='train')\n",
    "plt.plot(history.history['val_loss'], label='test')\n",
    "plt.legend()\n",
    "plt.show()"
   ]
  },
  {
   "cell_type": "code",
   "execution_count": 37,
   "id": "e2a647d7",
   "metadata": {},
   "outputs": [],
   "source": [
    "# 테스트 단계에서는 정수 인덱스 행렬로 존재하던 텍스트 데이터를 실제 데이터로 복원\n",
    "\n",
    "src_index_to_word = src_tokenizer.index_word \n",
    "tar_word_to_index = tar_tokenizer.word_index \n",
    "tar_index_to_word = tar_tokenizer.index_word "
   ]
  },
  {
   "cell_type": "code",
   "execution_count": 38,
   "id": "d61f65d1",
   "metadata": {},
   "outputs": [],
   "source": [
    "# 인코더 설계\n",
    "encoder_model = Model(inputs=encoder_inputs, outputs=[encoder_outputs, state_h, state_c])\n",
    "\n",
    "# 이전 시점의 상태들을 저장하는 텐서\n",
    "decoder_state_input_h = Input(shape=(hidden_size,))\n",
    "decoder_state_input_c = Input(shape=(hidden_size,))\n",
    "\n",
    "dec_emb2 = dec_emb_layer(decoder_inputs)\n",
    "\n",
    "decoder_outputs2, state_h2, state_c2 = decoder_lstm(dec_emb2, initial_state=[decoder_state_input_h, decoder_state_input_c])"
   ]
  },
  {
   "cell_type": "code",
   "execution_count": 39,
   "id": "f2a25366",
   "metadata": {},
   "outputs": [],
   "source": [
    "# 어텐션 메커니즘을 사용하는 출력층을 설계\n",
    "\n",
    "# 어텐션 함수\n",
    "decoder_hidden_state_input = Input(shape=(text_max_len, hidden_size))\n",
    "attn_out_inf = attn_layer([decoder_outputs2, decoder_hidden_state_input])\n",
    "decoder_inf_concat = Concatenate(axis=-1, name='concat')([decoder_outputs2, attn_out_inf])\n",
    "\n",
    "# 디코더의 출력층\n",
    "decoder_outputs2 = decoder_softmax_layer(decoder_inf_concat) \n",
    "\n",
    "# 최종 디코더 모델\n",
    "decoder_model = Model(\n",
    "    [decoder_inputs] + [decoder_hidden_state_input,decoder_state_input_h, decoder_state_input_c],\n",
    "    [decoder_outputs2] + [state_h2, state_c2])"
   ]
  },
  {
   "cell_type": "code",
   "execution_count": 40,
   "id": "48b28c08",
   "metadata": {},
   "outputs": [],
   "source": [
    "# 인퍼런스 단계에서 단어 시퀀스를 완성하는 함수.\n",
    "\n",
    "def decode_sequence(input_seq):\n",
    "    # 입력으로부터 인코더의 상태를 얻음\n",
    "    e_out, e_h, e_c = encoder_model.predict(input_seq)\n",
    "\n",
    "     # <SOS>에 해당하는 토큰 생성\n",
    "    target_seq = np.zeros((1,1))\n",
    "    target_seq[0, 0] = tar_word_to_index['sostoken']\n",
    "\n",
    "    stop_condition = False\n",
    "    decoded_sentence = ''\n",
    "    while not stop_condition: # stop_condition이 True가 될 때까지 루프 반복\n",
    "\n",
    "        output_tokens, h, c = decoder_model.predict([target_seq] + [e_out, e_h, e_c])\n",
    "        sampled_token_index = np.argmax(output_tokens[0, -1, :])\n",
    "        sampled_token = tar_index_to_word[sampled_token_index]\n",
    "\n",
    "        if (sampled_token!='eostoken'):\n",
    "            decoded_sentence += ' '+sampled_token\n",
    "\n",
    "        #  <eos>에 도달하거나 최대 길이를 넘으면 중단.\n",
    "        if (sampled_token == 'eostoken'  or len(decoded_sentence.split()) >= (headline_max_len-1)):\n",
    "            stop_condition = True\n",
    "\n",
    "        # 길이가 1인 타겟 시퀀스를 업데이트\n",
    "        target_seq = np.zeros((1,1))\n",
    "        target_seq[0, 0] = sampled_token_index\n",
    "\n",
    "        # 상태를 업데이트 합니다.\n",
    "        e_h, e_c = h, c\n",
    "\n",
    "    return decoded_sentence"
   ]
  },
  {
   "cell_type": "markdown",
   "id": "c0295feb",
   "metadata": {},
   "source": [
    "# Step 4. 실제 결과와 요약문 비교하기 (추상적 요약)\n",
    "\n",
    "원래의 요약문(headlines 열)과 학습을 통해 얻은 추상적 요약의 결과를 비교해 보세요."
   ]
  },
  {
   "cell_type": "code",
   "execution_count": 41,
   "id": "80cb021a",
   "metadata": {},
   "outputs": [],
   "source": [
    "# 원문의 정수 시퀀스를 텍스트 시퀀스로 변환\n",
    "def seq2text(input_seq):\n",
    "    temp=''\n",
    "    for i in input_seq:\n",
    "        if (i!=0):\n",
    "            temp = temp + src_index_to_word[i]+' '\n",
    "    return temp\n",
    "\n",
    "# 요약문의 정수 시퀀스를 텍스트 시퀀스로 변환\n",
    "def seq2summary(input_seq):\n",
    "    temp=''\n",
    "    for i in input_seq:\n",
    "        if ((i!=0 and i!=tar_word_to_index['sostoken']) and i!=tar_word_to_index['eostoken']):\n",
    "            temp = temp + tar_index_to_word[i] + ' '\n",
    "    return temp"
   ]
  },
  {
   "cell_type": "code",
   "execution_count": 42,
   "id": "8058f115",
   "metadata": {},
   "outputs": [
    {
     "name": "stdout",
     "output_type": "stream",
     "text": [
      "원문 : madhya pradesh education minister vijay shah wednesday directed government schools state satna district make sure students answer roll call jai hind instead yes sir shah said practice would introduced october experiment based success would implemented entire state \n",
      "실제 요약 : mp students asked to answer roll call with jai \n",
      "예측 요약 :  mp govt to make schools on school teachers\n",
      "\n",
      "\n",
      "원문 : leopard seen gujarat secretariat complex gandhinagar monday morning caught officials forest department hours search operations began guns brought campus part operation capture animal cctv footage showed leopard entering block complex gate \n",
      "실제 요약 : leopard that entered guj secretariat caught after hours of search \n",
      "예측 요약 :  police station to be caught on road in\n",
      "\n",
      "\n",
      "원문 : travel company super holiday sale offering attractive deals holiday packages come end th august travellers choose range holiday packages destinations like singapore thailand new zealand fiji andaman bhutan packages start include flights accommodation sightseeing \n",
      "실제 요약 : days left for super holiday sale to end \n",
      "예측 요약 :  offers to offer to offer free to offer\n",
      "\n",
      "\n",
      "원문 : researchers us based allen institute ai devised test called arc reasoning challenge test artificial intelligence see whether common sense test consists elementary school level multiple choice questions general knowledge test part initiative ai systems understanding world researchers said \n",
      "실제 요약 : researchers develop test to see whether ai has common sense \n",
      "예측 요약 :  scientists test test series with\n",
      "\n",
      "\n",
      "원문 : letter chief justice dipak misra law minister ravi shankar prasad said judiciary handle sexual harassment allegations karnataka district judge properly probe conducted karnataka high court claimed allegations female judicial officer baseless district judge name cleared elevation high court \n",
      "실제 요약 : sexual harassment probe of judge not handled properly govt \n",
      "예측 요약 :  cji rejects plea seeking apology from cji sexual harassment\n",
      "\n",
      "\n",
      "원문 : sachin tendulkar wanted fast bowler youngster turned pace foundation director dennis lillee tendulkar later recalled australian pacer telling friend better option stick batting academy set lillee train fast bowlers chennai \n",
      "실제 요약 : sachin tendulkar was rejected by pace foundation \n",
      "예측 요약 :  sachin tendulkar reveals he is the best bowler\n",
      "\n",
      "\n",
      "원문 : mahindra mahindra merge logistics platform mumbai based truck rental startup porter companies announced per deal porter co founder pranav goel serve ceo merged entity current ceo act interim co ceo also mahindra group invest crore new company \n",
      "실제 요약 : mahindra to merge with truck rental firm \n",
      "예측 요약 :  mahindra backed startup backed firm raises crore\n",
      "\n",
      "\n",
      "원문 : nasa parker solar probe completed flyby around planet venus journey towards sun launched august spacecraft make six venus gravity assists take within million kilometres sun seven year mission named astrophysicist eugene parker first predicted existence solar wind \n",
      "실제 요약 : nasa mission to touch the sun completes first venus \n",
      "예측 요약 :  nasa spacecraft captures solar system that can sun\n",
      "\n",
      "\n",
      "원문 : tesla chief executive officer elon musk monday tweeted deleted tesla titles nothing tesla seems fine far billionaire said less minutes later musk tweeted legally required officers corporation president treasurer secretary guess keep st one confuse authorities \n",
      "실제 요약 : says he gave up titles is now nothing of tesla \n",
      "예측 요약 :  tesla responds to musk over tweet on tesla tweet\n",
      "\n",
      "\n",
      "원문 : supreme court friday extended deadline linking aadhaar number services government schemes including mobile phone number permanent account number bank accounts till march court also announced final hearing case constitutional validity aadhaar start january \n",
      "실제 요약 : all aadhaar linking extended to march \n",
      "예측 요약 :  aadhaar linking deadline to aadhaar sc\n",
      "\n",
      "\n",
      "원문 : government hospital gurugram vandalised saturday night family members year old cancer patient hospital allegedly denied treatment man man family alleged hospital authorities demanded bribe provide blood cancer patient denied treatment refused \n",
      "실제 요약 : gurugram hospital vandalised after patient denied treatment \n",
      "예측 요약 :  delhi hospital performs hiv throat for hiv hiv\n",
      "\n",
      "\n",
      "원문 : south delhi municipal corporation planning install mobile toilet vans slum clusters jurisdiction tackle open defecation official explained densely populated areas especially near railway lines limited space hence mobile toilet vans need placed civic agency allocated amount crore project \n",
      "실제 요약 : south delhi to install mobile toilet vans \n",
      "예측 요약 :  delhi civic body to install cctvs in toilets\n",
      "\n",
      "\n",
      "원문 : gautam gambhir stepped captain delhi daredevils losing five six matches ipl far gambhir returned delhi daredevils year captained kolkata knight riders seven straight seasons batsman shreyas iyer replace two time ipl winning captain skipper delhi daredevils \n",
      "실제 요약 : gambhir steps down as dd captain after losses in matches \n",
      "예측 요약 :  gambhir to gambhir gambhir gambhir\n",
      "\n",
      "\n",
      "원문 : american boxer floyd mayweather said set come retirement fight old rival manny pacquiao rematch fight century mayweather unbeaten career boxing record wrote announcement another figure pay day way mayweather beaten pacquiao fight century \n",
      "실제 요약 : mayweather to fight in fight of the century \n",
      "예측 요약 :  mayweather reveals mcgregor fight with him\n",
      "\n",
      "\n",
      "원문 : kerala health minister kk shailaja sunday announced nipah virus outbreak state contained adding last two patients tested positive virus recovered many people including nurse treated patients infected virus died outbreak people kept observation \n",
      "실제 요약 : nipah virus last patients recovered kerala \n",
      "예측 요약 :  kerala minister announces nipah virus outbreak\n",
      "\n",
      "\n",
      "원문 : delhi high court thursday extended congress mp former finance minister chidambaram interim protection arrest inx media case till january congress mp son karti probed cbi ed connection foreign investment promotion board clearance granted inx media chidambaram tenure finance minister \n",
      "실제 요약 : chidambaram gets interim protection till jan in corruption case \n",
      "예측 요약 :  chidambaram gets notice for kejriwal over arrest of swamy\n",
      "\n",
      "\n",
      "원문 : international ice snow sculpture festival world largest ice festival kicked china festival th edition features various landmarks around world including moscow red square bangkok temple emerald buddha nearly lakh cubic metres ice lakh cubic meters snow used build sculptures \n",
      "실제 요약 : world largest ice festival kicks off in china \n",
      "예측 요약 :  world largest cruise ship opens in germany\n",
      "\n",
      "\n",
      "원문 : german interior ministry offering rejected asylum seekers go country origin voluntarily scheme known country future applicable february next year earlier year germany announced limit intake refugees lakh annually \n",
      "실제 요약 : germany offers rejected asylum seekers to return home \n",
      "예측 요약 :  us to give asylum to\n",
      "\n",
      "\n",
      "원문 : indian opener shikhar dhawan dropped test squad mayank agarwal mohammad siraj handed maiden team india call ups upcoming series windies agarwal scored record plus runs domestic cricket last season fast bowlers jasprit bumrah bhuvneshwar kumar given rest series \n",
      "실제 요약 : dhawan dropped mayank gets maiden call up to test squad \n",
      "예측 요약 :  bumrah bumrah to run out of runs in india\n",
      "\n",
      "\n",
      "원문 : ex pakistan rounder azhar mahmood posted picture virat kohli caption read good see always inspirational youngsters elders like imvkohli best brother year old became british citizen currently bowling coach pakistani cricket team \n",
      "실제 요약 : kohli an inspiration for like me ex pak all rounder \n",
      "예측 요약 :  virat kohli tweets user on kohli tweet\n",
      "\n",
      "\n",
      "원문 : deepika padukone bridal hairstylist gabriel said actress looked beyond royalty unbelievable wedding days november even though hair simple powerful loved felt amazing everyone blown away added gabriel look whole experience magical peaceful gabriel said \n",
      "실제 요약 : she looked beyond royalty deepika bridal \n",
      "예측 요약 :  deepika padukone is the fashion deepika padukone\n",
      "\n",
      "\n",
      "원문 : indian spinner harbhajan singh took twitter share video dancing bollywood actor shah rukh khan wedding reception virat kohli anushka sharma mumbai aur ki shaadi ne imvkohli ur vibe charm makes everything energetic harbhajan captioned video \n",
      "실제 요약 : harbhajan dances with srk at virat anushka reception \n"
     ]
    },
    {
     "name": "stdout",
     "output_type": "stream",
     "text": [
      "예측 요약 :  anushka dances to virat kohli reception in reception\n",
      "\n",
      "\n",
      "원문 : president ram nath kovind tuesday accepted resignation rashtriya lok samata party chief upendra kushwaha union council ministers kushwaha said union cabinet reduced mere rubber stamp charged prime minister narendra modi betraying bihar also said pm pursuing style functioning \n",
      "실제 요약 : president kovind accepts kushwaha resignation \n",
      "예측 요약 :  president kovind appointed as vice president\n",
      "\n",
      "\n",
      "원문 : philippine president rodrigo duterte told group business leaders delhi would offer interested investing country mocking isis said die martyr go heaven could make come also like come country \n",
      "실제 요약 : philippine prez offers to indian investors \n",
      "예측 요약 :  philippine prez duterte calls for selling terror\n",
      "\n",
      "\n",
      "원문 : haryana police planted knife bus conductor pinned prime suspect murder year old student gurugram ryan international school premises reports claimed driver coerced confess crime front media haryana police pressure close case reports added \n",
      "실제 요약 : police planted knife framed driver in ryan murder reports \n",
      "예측 요약 :  police arrest accused of murder accused of murder\n",
      "\n",
      "\n",
      "원문 : dmk tuesday said many party workers died knowing demise former party chief karunanidhi condoling deaths party announced compensation lakh families general council meeting former tamil nadu cm passed away aged august prolonged illness nn \n",
      "실제 요약 : party workers died of shock on karunanidhi death dmk \n",
      "예측 요약 :  karunanidhi funeral died in karunanidhi attack\n",
      "\n",
      "\n",
      "원문 : us based maker tuesday said discontinue operations venezuela blaming country economic social deterioration president nicolas maduro seized company manufacturing plant said handed workers companies left socialist nation include clark general motors \n",
      "실제 요약 : shuts down venezuela operations over economic crisis \n",
      "예측 요약 :  us president quits after years\n",
      "\n",
      "\n",
      "원문 : square kilometre iceberg four half times size manhattan recently separated antarctica pine island glacier second major event year fifth since said netherlands based satellite observation specialist scientists keeping close watch glacier melting completely could raise sea levels feet \n",
      "실제 요약 : sq km iceberg snaps off antarctic glacier \n",
      "예측 요약 :  scientists find ice from the largest\n",
      "\n",
      "\n",
      "원문 : user shared picture strawberries pizza another tweeted pineapple non pineapple pizza eaters must put differences aside join forces defeat evil users supported strawberry pizza another tweeted police way earlier twitter users argued pineapple pizza iceland president said wished could ban \n",
      "실제 요약 : defeat this evil tweets user on pizza \n",
      "예측 요약 :  twitter suspends suspends ad for calling him\n",
      "\n",
      "\n",
      "원문 : prime minister narendra modi address queries opposition party meeting held ahead parliament winter session congress leader mallikarjun kharge said friday neither prime minister parliamentary affairs minister replied points raised us heard us made suggestion left added \n",
      "실제 요약 : did not address opposition queries at all party meet cong \n",
      "예측 요약 :  pm modi sworn in as congress chief\n",
      "\n",
      "\n",
      "원문 : karnataka higher education minister said whether officers transferred months days obey government orders comments come amid criticism state government frequent transfers civil servants notably two recently transferred officers moved central administrative tribunal obtained stay state decision \n",
      "실제 요약 : officers can be transferred in months or days minister \n",
      "예측 요약 :  karnataka govt to taka govt for taka cm\n",
      "\n",
      "\n",
      "원문 : jeweller nirav modi fled hong kong moved new york according report citing government documents nirav first fled uae hong kong india requested provisional arrest fled london subsequently new york nirav whose passport revoked reportedly travelling forged passport \n",
      "실제 요약 : nirav modi flees hong kong traced to new york report \n",
      "예측 요약 :  nirav modi named uk foreign secretary\n",
      "\n",
      "\n",
      "원문 : responding question metoo movement union minister smriti irani said india strict laws place protect women approach police courts justice day earlier asked sexual harassment allegations union minister mj akbar irani said gentleman question would better position answer \n",
      "실제 요약 : india has police laws to protect women smriti on metoo \n",
      "예측 요약 :  metoo movement against women in india sena\n",
      "\n",
      "\n",
      "원문 : australian rounder glenn maxwell said hurt allegations spot fixing ranchi test investigative documentary unfair tarnish one best moments career pretty brutal said maxwell scored maiden hundred match maxwell added documentary indirectly pointing hard take \n",
      "실제 요약 : brutal to my best moment maxwell on fixing claims \n",
      "예측 요약 :  gambhir slams gambhir for not paying him for chappell\n",
      "\n",
      "\n",
      "원문 : anupam kher shared video year old woman earns living selling tea tree kher heard saying video years old still job met devi free brief chat life permanently kher wrote caption \n",
      "실제 요약 : still does job kher on meeting yr old tea seller \n",
      "예측 요약 :  anupam kher gifts his own house to anupam kher\n",
      "\n",
      "\n",
      "원문 : bjp mla lokendra singh died wednesday car rammed truck highway uttar pradesh sitapur singh way investors meet lucknow accident occurred expressing condolences pm narendra modi tweeted service towards society role building bjp always remembered \n",
      "실제 요약 : bjp mla singh dies in car accident in up \n",
      "예측 요약 :  bjp leader dies after car hits bjp\n",
      "\n",
      "\n",
      "원문 : actor shah rukh khan featured cover filmfare magazine special edition marks years bollywood career cover story titled king turns tweeting filmfare wrote jab harry met filmfare celebrate years reign hearts bollywood special issue \n",
      "실제 요약 : features on filmfare cover to mark his yrs in wood \n",
      "예측 요약 :  srk srk starrer filmfare magazine cover of magazine cover\n",
      "\n",
      "\n",
      "원문 : uk based doctors reported case year old man ruptured throat trying stop high force man said felt sensation neck experienced pain swallowing speaking stopping could also damage ears even brain blood vessel warned doctors \n",
      "실제 요약 : uk man throat while trying to control \n",
      "예측 요약 :  man stabs man for killing man in delhi\n",
      "\n",
      "\n",
      "원문 : south african batsman hashim amla fastest batsman score runs odi cricket history amla turns today overtaken team india captain virat kohli become fastest batsman odi runs may last year amla also south african test triple ton \n",
      "실제 요약 : amla fastest to odi runs \n",
      "예측 요약 :  virat kohli fastest to odi runs in test\n",
      "\n",
      "\n",
      "원문 : career goal came th minute free kick helped league leaders barcelona beat second placed atl tico madrid sunday win barcelona atop points table eight point gap ahead second placed atl tico madrid messi third free kick week sixth overall season \n",
      "실제 요약 : messi th goal helps bar beat go pts clear \n",
      "예측 요약 :  ronaldo scores goals in minutes after kick\n",
      "\n",
      "\n",
      "원문 : ramana village prime minister narendra modi parliamentary constituency varanasi become first uttar pradesh ro plant purify water water available village litres locals buy officials said money charged would used maintenance plant added \n",
      "실제 요약 : village in pm constituency st in up to get plant \n",
      "예측 요약 :  pm modi inaugurates km in india\n",
      "\n",
      "\n",
      "원문 : year old auto rickshaw driver stabbed death four minors sunday night near delhi connaught place dispute fare said police taken hospital succumbed injuries within two hours one accused caught locals others nabbed police \n",
      "실제 요약 : delhi auto driver murdered by minors over fare dispute \n",
      "예측 요약 :  year old boy killed in bus bus in delhi\n",
      "\n",
      "\n",
      "원문 : american investment bank morgan stanley sued morgan stanley capital improperly using trademark name lawsuit also alleged tried use morgan stanley name job postings internet interestingly year old investment bank used word capital number subsidiaries \n",
      "실제 요약 : stanley sues morgan stanley capital for illegal use of name \n",
      "예측 요약 :  us firm sued for mn in black money\n",
      "\n",
      "\n",
      "원문 : australia ashes rd time defeating england innings runs monday take unassailable lead ongoing five test series win australia ashes series wins england meanwhile seventh straight away loss england equalled longest losing streak outside home test cricket \n",
      "실제 요약 : australia wins its rd ashes has more wins than england \n",
      "예측 요약 :  england win their first ever test test series\n",
      "\n",
      "\n",
      "원문 : microsoft announced acquisition two new video game studios entertainment entertainment continue operate autonomously unique talents ip expertise microsoft studios corporate vp matt said known fallout new vegas star wars old republic famous \n",
      "실제 요약 : microsoft acquires two video game studios \n"
     ]
    },
    {
     "name": "stdout",
     "output_type": "stream",
     "text": [
      "예측 요약 :  microsoft to shut down after platform\n",
      "\n",
      "\n",
      "원문 : australian spinner nathan lyon sanctioned icc dropping ball south africa ab de villiers running first test lyon charged level one offence reportedly contacted sa batsman overnight apologise incident meanwhile warner also involved field verbal altercation quinton de kock \n",
      "실제 요약 : bowler charged for dropping ball at de villiers after \n",
      "예측 요약 :  smith warner slams umpire for ball tampering\n",
      "\n",
      "\n",
      "원문 : owners indigo first airline make formal offer buy stake air india said would provide rapid entry restricted international markets focused narrowly air india international operations air india express communicated added notably air india debt around crore \n",
      "실제 요약 : air india to offer entry into international markets indigo \n",
      "예측 요약 :  indigo to invest crore in air india reports\n",
      "\n",
      "\n",
      "원문 : per reports varun dhawan play labourer upcoming film sui dhaaga made india source said film hopes raise awareness indigenous cottage industries india also talks dignity labour film also stars anushka sharma first project varun \n",
      "실제 요약 : to play labourer in sui dhaaga made in india report \n",
      "예측 요약 :  varun dhawan starrer october hits the theatres\n",
      "\n",
      "\n",
      "원문 : india cut import taxes crude refined palm oil southeast asian countries following request suppliers duty crude palm oil lowered refined palm oil cut malaysian shipments refined palm oil taxed compared earlier \n",
      "실제 요약 : india cuts tax on oil imports from asean countries \n",
      "예측 요약 :  india to buy india for crore\n",
      "\n",
      "\n",
      "원문 : indian shuttlers pv sindhu sameer verma progressed semi finals stage bwf tour finals sindhu sameer indians bwf tour finals year sindhu group matches reached semi finals stage beating usa zhang women singles \n",
      "실제 요약 : sindhu verma qualify for tour finals semi finals \n",
      "예측 요약 :  sindhu named world cup after champions trophy exit\n",
      "\n",
      "\n"
     ]
    }
   ],
   "source": [
    "# 테스트 데이터 약 50개의 샘플에 대해서 실제 요약과 예측된 요약을 비교.\n",
    "\n",
    "for i in range(50, 100):\n",
    "    print(\"원문 :\", seq2text(encoder_input_test[i]))\n",
    "    print(\"실제 요약 :\", seq2summary(decoder_input_test[i]))\n",
    "    print(\"예측 요약 :\", decode_sequence(encoder_input_test[i].reshape(1, text_max_len)))\n",
    "    print(\"\\n\")"
   ]
  },
  {
   "cell_type": "markdown",
   "id": "290003ab",
   "metadata": {},
   "source": [
    "# Step 5. Summa을 이용해서 추출적 요약해보기\n",
    "\n",
    "추상적 요약은 추출적 요약과는 달리 문장의 표현력을 다양하게 가져갈 수 있지만, 추출적 요약에 비해서 난이도가 높아요.  \n",
    "반대로 말하면 추출적 요약은 추상적 요약에 비해 난이도가 낮고 기존 문장에서 문장을 꺼내오는 것이므로 잘못된 요약이 나올 가능성이 낮아요.\n",
    "\n",
    "Summa의 summarize를 사용하여 추출적 요약을 해보세요."
   ]
  },
  {
   "cell_type": "code",
   "execution_count": 43,
   "id": "d9e454d5",
   "metadata": {},
   "outputs": [],
   "source": [
    "import requests\n",
    "from summa.summarizer import summarize"
   ]
  },
  {
   "cell_type": "code",
   "execution_count": 44,
   "id": "8d30225f",
   "metadata": {},
   "outputs": [],
   "source": [
    "import urllib.request\n",
    "urllib.request.urlretrieve(\"https://raw.githubusercontent.com/sunnysai12345/News_Summary/master/news_summary_more.csv\", filename=\"news_summary_more.csv\")\n",
    "data = pd.read_csv('news_summary_more.csv', encoding='iso-8859-1',nrows=100000)"
   ]
  },
  {
   "cell_type": "code",
   "execution_count": 47,
   "id": "7e252a60",
   "metadata": {},
   "outputs": [
    {
     "name": "stdout",
     "output_type": "stream",
     "text": [
      "원문 : Saurav Kant, an alumnus of upGrad and IIIT-B's PG Program in Machine learning and Artificial Intelligence, was a Sr Systems Engineer at Infosys with almost 5 years of work experience. The program and upGrad's 360-degree career support helped him transition to a Data Scientist at Tech Mahindra with 90% salary hike. upGrad's Online Power Learning has powered 3 lakh+ careers.\n",
      "실제 요약 : upGrad learner switches to career in ML & Al with 90% salary hike\n",
      "예측 요약 : upGrad's Online Power Learning has powered 3 lakh+ careers.\n",
      "\n",
      "\n",
      "원문 : Kunal Shah's credit card bill payment platform, CRED, gave users a chance to win free food from Swiggy for one year. Pranav Kaushik, a Delhi techie, bagged this reward after spending 2000 CRED coins. Users get one CRED coin per rupee of bill paid, which can be used to avail rewards from brands like Ixigo, BookMyShow, UberEats, Cult.Fit and more.\n",
      "실제 요약 : Delhi techie wins free food from Swiggy for one year on CRED\n",
      "예측 요약 : Users get one CRED coin per rupee of bill paid, which can be used to avail rewards from brands like Ixigo, BookMyShow, UberEats, Cult.Fit and more.\n",
      "\n",
      "\n",
      "원문 : New Zealand defeated India by 8 wickets in the fourth ODI at Hamilton on Thursday to win their first match of the five-match ODI series. India lost an international match under Rohit Sharma's captaincy after 12 consecutive victories dating back to March 2018. The match witnessed India getting all out for 92, their seventh lowest total in ODI cricket history.\n",
      "실제 요약 : New Zealand end Rohit Sharma-led India's 12-match winning streak\n",
      "예측 요약 : The match witnessed India getting all out for 92, their seventh lowest total in ODI cricket history.\n",
      "\n",
      "\n",
      "원문 : With Aegon Life iTerm Insurance plan, customers can enjoy tax benefits on your premiums paid and save up to Ã¢ÂÂ¹46,800^ on taxes. The plan provides life cover up to the age of 100 years. Also, customers have options to insure against Critical Illnesses, Disability and Accidental Death Benefit Rider with a life cover up to the age of 80 years.\n",
      "실제 요약 : Aegon life iTerm insurance plan helps customers save tax\n",
      "예측 요약 : Also, customers have options to insure against Critical Illnesses, Disability and Accidental Death Benefit Rider with a life cover up to the age of 80 years.\n",
      "\n",
      "\n",
      "원문 : Speaking about the sexual harassment allegations against Rajkumar Hirani, Sonam Kapoor said, \"I've known Hirani for many years...What if it's not true, the [#MeToo] movement will get derailed.\" \"In the #MeToo movement, I always believe a woman. But in this case, we need to reserve our judgment,\" she added. Hirani has been accused by an assistant who worked in 'Sanju'.\n",
      "실제 요약 : Have known Hirani for yrs, what if MeToo claims are not true: Sonam\n",
      "예측 요약 : Speaking about the sexual harassment allegations against Rajkumar Hirani, Sonam Kapoor said, \"I've known Hirani for many years...What if it's not true, the [#MeToo] movement will get derailed.\" \"In the #MeToo movement, I always believe a woman.\n",
      "\n",
      "\n",
      "원문 : Pakistani singer Rahat Fateh Ali Khan has denied receiving any notice from the Enforcement Directorate over allegedly smuggling foreign currency out of India. \"It would have been better if the authorities would have served the notice first if any and then publicised this,\" reads a press release issued on behalf of Rahat. The statement further called the allegation \"bizarre\".\n",
      "실제 요약 : Rahat Fateh Ali Khan denies getting notice for smuggling currency\n",
      "예측 요약 : Pakistani singer Rahat Fateh Ali Khan has denied receiving any notice from the Enforcement Directorate over allegedly smuggling foreign currency out of India.\n",
      "\n",
      "\n",
      "원문 : India recorded their lowest ODI total in New Zealand after getting all out for 92 runs in 30.5 overs in the fourth ODI at Hamilton on Thursday. Seven of India's batsmen were dismissed for single-digit scores, while their number ten batsman Yuzvendra Chahal top-scored with 18*(37). India's previous lowest ODI total in New Zealand was 108.\n",
      "실제 요약 : India get all out for 92, their lowest ODI total in New Zealand\n",
      "예측 요약 : India's previous lowest ODI total in New Zealand was 108.\n",
      "\n",
      "\n",
      "원문 : Weeks after ex-CBI Director Alok Verma told the Department of Personnel and Training to consider him retired, the Home Ministry asked him to join work on the last day of his fixed tenure as Director on Thursday. The ministry directed him to immediately join as DG, Fire Services, the post he was transferred to after his removal as CBI chief.\n",
      "실제 요약 : Govt directs Alok Verma to join work 1 day before his retirement\n",
      "예측 요약 : \n",
      "\n",
      "\n",
      "원문 : Andhra Pradesh CM N Chandrababu Naidu has said, \"When I met then US President Bill Clinton, I addressed him as Mr Clinton, not as 'sir'. (PM Narendra) Modi is my junior in politics...I addressed him as sir 10 times.\" \"I did this...to satisfy his ego in the hope that he will do justice to the state,\" he added.\n",
      "실제 요약 : Called PM Modi 'sir' 10 times to satisfy his ego: Andhra CM\n",
      "예측 요약 : \n",
      "\n",
      "\n",
      "원문 : Congress candidate Shafia Zubair won the Ramgarh Assembly seat in Rajasthan, by defeating BJP's Sukhwant Singh with a margin of 12,228 votes in the bypoll. With this victory, Congress has taken its total to 100 seats in the 200-member assembly. The election to the Ramgarh seat was delayed due to the death of sitting MLA and BSP candidate Laxman Singh.\n",
      "실제 요약 : Cong wins Ramgarh bypoll in Rajasthan, takes total to 100 seats\n",
      "예측 요약 : Congress candidate Shafia Zubair won the Ramgarh Assembly seat in Rajasthan, by defeating BJP's Sukhwant Singh with a margin of 12,228 votes in the bypoll.\n",
      "\n",
      "\n"
     ]
    }
   ],
   "source": [
    "for idx, (head, text) in enumerate(zip(data['headlines'], data['text'])):\n",
    "    if idx == 10:\n",
    "        break\n",
    "    print(\"원문 :\", text)\n",
    "    print(\"실제 요약 :\", head)\n",
    "    print(\"예측 요약 :\", summarize(text, ratio=0.4))\n",
    "    print(\"\\n\")\n"
   ]
  },
  {
   "cell_type": "markdown",
   "id": "b5401911",
   "metadata": {},
   "source": [
    "# 회고 \n",
    "\n",
    "알게 된 것 \n",
    "\n",
    "- NLP는 학습시키는데 시간이 오래 걸린다. 특히 LSTM 같은 RNN 계열의 모델을 돌릴 때는 \n",
    "- NLP는 성능이 생각보다 좋게 나오기 어렵다. 기대치를 낮출 것. 특히 NLG(생성모델)는. \n",
    "- Attention을 사용하는 방법을 알았는데 향후 GPT 등과 어떻게 pre-trained된 부분을 받을지 공부 필요 \n",
    "- 영어 전처리를 쉬운데 한국어 전처리는 잘 모르겠다. 영어 전처리는 하나의 함수로 만들어 반복적으로 사용해야 효율이 높을 것 같다. \n",
    "- 모델을 돌리는데 시간이 오래 걸릴 경우 tqdm 같은 모듈을 써 보는 것도 좋을 것 같다. Early stopping은 생각보다 잘 작동을 안한다.\n",
    "- Summarize를 쓰는 것보다는 attention 등으로 학습시킨 것이 훨씬 성능이 좋았음. "
   ]
  }
 ],
 "metadata": {
  "kernelspec": {
   "display_name": "Python 3 (ipykernel)",
   "language": "python",
   "name": "python3"
  },
  "language_info": {
   "codemirror_mode": {
    "name": "ipython",
    "version": 3
   },
   "file_extension": ".py",
   "mimetype": "text/x-python",
   "name": "python",
   "nbconvert_exporter": "python",
   "pygments_lexer": "ipython3",
   "version": "3.9.7"
  }
 },
 "nbformat": 4,
 "nbformat_minor": 5
}
