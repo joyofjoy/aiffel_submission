{
  "nbformat": 4,
  "nbformat_minor": 0,
  "metadata": {
    "colab": {
      "name": "[GD-4]뉴스 카테고리 자동분류",
      "provenance": [],
      "collapsed_sections": []
    },
    "kernelspec": {
      "name": "python3",
      "display_name": "Python 3"
    },
    "language_info": {
      "name": "python"
    }
  },
  "cells": [
    {
      "cell_type": "markdown",
      "source": [
        "### 4-9. 프로젝트: Vocabulary Size를 변경해서 시도해보기\n",
        "\n",
        "지금까지는 모델을 변경하고, 모델을 조합해서 성능을 올리는 일에 힘썼습니다. 그런데 어쩌면 성능을 높이는 방법은 단순히 모델을 조정하는 일에 한정되지 않을 수 있습니다. 데이터의 전처리는 모델의 성능에 영향을 직접적으로 줍니다. 특히나 Bag of Words를 기반으로 하는 DTM이나 TF-IDF의 경우, 사용하는 단어의 수를 어떻게 결정하느냐에 따라서 성능에 영향을 줄 수 있겠죠.\n",
        "\n",
        "중요도가 낮은 단어들까지 포함해 너무 많은 단어를 사용하는 경우에도 성능이 저하될 수 있고, 반대로 너무 적은 단어들을 사용해도 성능이 저하될 수 있습니다. 이렇게 변화된 단어의 수는 또 어떤 모델을 사용하느냐에 따라 유리할 수도, 불리할 수도 있습니다.\n",
        "\n",
        "단어의 수에 따라서 모델의 성능이 어떻게 변하는지 테스트해 봅시다."
      ],
      "metadata": {
        "id": "S-WC1T9uY9AW"
      }
    },
    {
      "cell_type": "markdown",
      "source": [
        "앞서 num_words로 사용할 단어의 수를 조정할 수 있다는 것을 배웠습니다. 빈도수가 많은 순서대로 나열했을 때, num_words의 인자로 준 정숫값만큼의 단어를 사용하고 나머지 단어는 전부 <unk>로 처리하는 원리였었죠.\n",
        "\n",
        "아래의 두 가지 경우에 대해서 지금까지 사용했던 모델들의 정확도를 직접 확인해 보세요."
      ],
      "metadata": {
        "id": "7DhP9Z23ZU9J"
      }
    },
    {
      "cell_type": "markdown",
      "source": [
        "라이브러리 버전을 확인해 봅니다.  \n",
        "사용할 라이브러리 버전을 둘러봅시다."
      ],
      "metadata": {
        "id": "Ln57hM2TZfHc"
      }
    },
    {
      "cell_type": "code",
      "source": [
        "\n",
        "from tensorflow.keras.datasets import reuters\n",
        "import matplotlib.pyplot as plt\n",
        "import seaborn as sns\n",
        "import numpy as np\n",
        "import pandas as pd\n",
        "\n",
        "from sklearn.feature_extraction.text import CountVectorizer\n",
        "from sklearn.feature_extraction.text import TfidfTransformer\n",
        "\n",
        "from sklearn.naive_bayes import MultinomialNB \n",
        "from sklearn.linear_model import LogisticRegression, SGDClassifier\n",
        "from sklearn.naive_bayes import ComplementNB\n",
        "from sklearn.tree import DecisionTreeClassifier\n",
        "from sklearn.ensemble import RandomForestClassifier\n",
        "from sklearn.ensemble import GradientBoostingClassifier\n",
        "from sklearn.ensemble import VotingClassifier\n",
        "from sklearn.svm import LinearSVC\n",
        "from sklearn.metrics import accuracy_score \n",
        "\n",
        "from sklearn.metrics import classification_report\n",
        "from sklearn.metrics import confusion_matrix"
      ],
      "metadata": {
        "id": "sEbngzDqZOcP"
      },
      "execution_count": 1,
      "outputs": []
    },
    {
      "cell_type": "markdown",
      "source": [
        "### 1. 모든 단어 사용"
      ],
      "metadata": {
        "id": "M8hCLFdFZ0ye"
      }
    },
    {
      "cell_type": "code",
      "source": [
        "# 데이터 로드\n",
        "(x_train, y_train), (x_test, y_test) = reuters.load_data(num_words=None, test_split=0.2)"
      ],
      "metadata": {
        "id": "FQHUwhm7ZwNm",
        "colab": {
          "base_uri": "https://localhost:8080/"
        },
        "outputId": "a70705e0-9ef1-453d-dcda-a17ff1bd92f2"
      },
      "execution_count": 2,
      "outputs": [
        {
          "output_type": "stream",
          "name": "stdout",
          "text": [
            "Downloading data from https://storage.googleapis.com/tensorflow/tf-keras-datasets/reuters.npz\n",
            "2113536/2110848 [==============================] - 0s 0us/step\n",
            "2121728/2110848 [==============================] - 0s 0us/step\n"
          ]
        }
      ]
    },
    {
      "cell_type": "code",
      "source": [
        "# 데이터 분포 \n",
        "print('훈련용 뉴스의 최대 길이 :{}'.format(max(len(l) for l in x_train)))\n",
        "print('훈련용 뉴스의 평균 길이 :{}'.format(sum(map(len, x_train))/len(x_train)))\n",
        "\n",
        "plt.hist([len(s) for s in x_train], bins=50)\n",
        "plt.xlabel('length of samples')\n",
        "plt.ylabel('number of samples')\n",
        "plt.show()"
      ],
      "metadata": {
        "id": "rmyrWfsXatUO",
        "colab": {
          "base_uri": "https://localhost:8080/",
          "height": 315
        },
        "outputId": "07e6744a-33e1-485d-b858-fb02f578cc74"
      },
      "execution_count": 3,
      "outputs": [
        {
          "output_type": "stream",
          "name": "stdout",
          "text": [
            "훈련용 뉴스의 최대 길이 :2376\n",
            "훈련용 뉴스의 평균 길이 :145.5398574927633\n"
          ]
        },
        {
          "output_type": "display_data",
          "data": {
            "text/plain": [
              "<Figure size 432x288 with 1 Axes>"
            ],
            "image/png": "[encoded data removed]"
          },
          "metadata": {
            "needs_background": "light"
          }
        }
      ]
    },
    {
      "cell_type": "code",
      "source": [
        "# 타겟데이터\n",
        "fig, axe = plt.subplots(ncols=1)\n",
        "fig.set_size_inches(12,5)\n",
        "sns.countplot(y_train)\n"
      ],
      "metadata": {
        "id": "hgV43NKfaxNI",
        "colab": {
          "base_uri": "https://localhost:8080/",
          "height": 394
        },
        "outputId": "14b547c0-0707-43c5-d855-683ac8609a2e"
      },
      "execution_count": 4,
      "outputs": [
        {
          "output_type": "stream",
          "name": "stderr",
          "text": [
            "/usr/local/lib/python3.7/dist-packages/seaborn/_decorators.py:43: FutureWarning: Pass the following variable as a keyword arg: x. From version 0.12, the only valid positional argument will be `data`, and passing other arguments without an explicit keyword will result in an error or misinterpretation.\n",
            "  FutureWarning\n"
          ]
        },
        {
          "output_type": "execute_result",
          "data": {
            "text/plain": [
              "<matplotlib.axes._subplots.AxesSubplot at 0x7f873de91f10>"
            ]
          },
          "metadata": {},
          "execution_count": 4
        },
        {
          "output_type": "display_data",
          "data": {
            "text/plain": [
              "<Figure size 864x360 with 1 Axes>"
            ],
            "image/png": "[encoded data removed]"
          },
          "metadata": {
            "needs_background": "light"
          }
        }
      ]
    },
    {
      "cell_type": "code",
      "source": [
        "# 텍스트데이터로 복원\n",
        "word_index = reuters.get_word_index(path=\"reuters_word_index.json\")\n",
        "\n",
        "# 인덱스 +3\n",
        "index_to_word = {index + 3 : word for word, index in word_index.items()}\n",
        "\n",
        "# index_to_word에 숫자 0은 <pad>, 숫자 1은 <sos>, 숫자 2는 <unk>를 넣어줍니다.\n",
        "for index, token in enumerate((\"<pad>\", \"<sos>\", \"<unk>\")):\n",
        "    index_to_word[index]=token"
      ],
      "metadata": {
        "id": "9Vzf7mqNa1Mz",
        "colab": {
          "base_uri": "https://localhost:8080/"
        },
        "outputId": "424908e7-51b0-4dab-a743-be7516995295"
      },
      "execution_count": 5,
      "outputs": [
        {
          "output_type": "stream",
          "name": "stdout",
          "text": [
            "Downloading data from https://storage.googleapis.com/tensorflow/tf-keras-datasets/reuters_word_index.json\n",
            "557056/550378 [==============================] - 0s 0us/step\n",
            "565248/550378 [==============================] - 0s 0us/step\n"
          ]
        }
      ]
    },
    {
      "cell_type": "code",
      "source": [
        "# 전체 학습데이터 복원\n",
        "decoded = []\n",
        "for i in range(len(x_train)):\n",
        "    t = ' '.join([index_to_word[index] for index in x_train[i]])\n",
        "    decoded.append(t)\n",
        "\n",
        "x_train = decoded"
      ],
      "metadata": {
        "id": "Hu9d35Qia5Cd"
      },
      "execution_count": 6,
      "outputs": []
    },
    {
      "cell_type": "code",
      "source": [
        "# 전체 테스트데이터 복원\n",
        "decoded = []\n",
        "for i in range(len(x_test)):\n",
        "    t = ' '.join([index_to_word[index] for index in x_test[i]])\n",
        "    decoded.append(t)\n",
        "\n",
        "x_test = decoded"
      ],
      "metadata": {
        "id": "YCGDb5RTa8N9"
      },
      "execution_count": 7,
      "outputs": []
    },
    {
      "cell_type": "code",
      "source": [
        "# DTM 확인\n",
        "dtmvector = CountVectorizer()\n",
        "x_train_dtm = dtmvector.fit_transform(x_train)\n",
        "print(x_train_dtm.shape)\n",
        "\n",
        "# 테스트데이터\n",
        "x_test_dtm = dtmvector.transform(x_test) "
      ],
      "metadata": {
        "id": "mhvLnl7ba-3Z",
        "colab": {
          "base_uri": "https://localhost:8080/"
        },
        "outputId": "8ad32bb7-0fd4-4edb-8875-4805faf640c6"
      },
      "execution_count": 8,
      "outputs": [
        {
          "output_type": "stream",
          "name": "stdout",
          "text": [
            "(8982, 26506)\n"
          ]
        }
      ]
    },
    {
      "cell_type": "code",
      "source": [
        "# TF-IDF Matrix확인\n",
        "tfidf_transformer = TfidfTransformer()\n",
        "tfidfv = tfidf_transformer.fit_transform(x_train_dtm)\n",
        "print(tfidfv.shape)\n",
        "\n",
        "# 테스트데이터\n",
        "tfidfv_test = tfidf_transformer.transform(x_test_dtm) "
      ],
      "metadata": {
        "id": "oV_rTlj8bBoh",
        "colab": {
          "base_uri": "https://localhost:8080/"
        },
        "outputId": "1bcb59f0-0e80-4a81-8a6f-83b9f7b77d16"
      },
      "execution_count": 9,
      "outputs": [
        {
          "output_type": "stream",
          "name": "stdout",
          "text": [
            "(8982, 26506)\n"
          ]
        }
      ]
    },
    {
      "cell_type": "markdown",
      "source": [
        "### ※ 모델별 정확도 계산"
      ],
      "metadata": {
        "id": "gV8OB7xAbapZ"
      }
    },
    {
      "cell_type": "code",
      "source": [
        "# 결과값 비교를 위한 리스트 선언\n",
        "classifier_list = [\"MultinomialNB\", \"ComplementNB\", \"Logistic Regression\", \"LinearSVC\", \"Decision Tree\", \"Random Forest\", \"GradientBoostingClassifier\", \"Voting\"]\n",
        "classifier_answer_list = []"
      ],
      "metadata": {
        "id": "sha6WV1UbyaP"
      },
      "execution_count": 10,
      "outputs": []
    },
    {
      "cell_type": "code",
      "source": [
        "# 1. 나이브 베이즈 분류기\n",
        "\n",
        "mod = MultinomialNB()\n",
        "mod.fit(tfidfv, y_train)\n",
        "\n",
        "predicted = mod.predict(tfidfv_test) \n",
        "print(\"정확도:\", accuracy_score(y_test, predicted)) "
      ],
      "metadata": {
        "id": "snAws1yfbEKM",
        "colab": {
          "base_uri": "https://localhost:8080/"
        },
        "outputId": "a6d723a7-df3e-4a97-cf42-548f2ec09185"
      },
      "execution_count": 11,
      "outputs": [
        {
          "output_type": "stream",
          "name": "stdout",
          "text": [
            "정확도: 0.5997328584149599\n"
          ]
        }
      ]
    },
    {
      "cell_type": "code",
      "source": [
        "# 2. Complement Naive Bayes Classifier(CNB)\n",
        "\n",
        "cb = ComplementNB()\n",
        "cb.fit(tfidfv, y_train)\n",
        "\n",
        "predicted = cb.predict(tfidfv_test) \n",
        "print(\"정확도:\", accuracy_score(y_test, predicted)) \n",
        "classifier_answer_list.append(accuracy_score(y_test, predicted))"
      ],
      "metadata": {
        "id": "6TvAU7ZPbs25",
        "colab": {
          "base_uri": "https://localhost:8080/"
        },
        "outputId": "18f47eaf-d89b-4de8-e636-419b47137d21"
      },
      "execution_count": 12,
      "outputs": [
        {
          "output_type": "stream",
          "name": "stdout",
          "text": [
            "정확도: 0.7649154051647373\n"
          ]
        }
      ]
    },
    {
      "cell_type": "code",
      "source": [
        "# 3. 로지스틱 회귀\n",
        "\n",
        "lr = LogisticRegression(C=10000, penalty='l2')\n",
        "lr.fit(tfidfv, y_train)\n",
        "\n",
        "predicted = lr.predict(tfidfv_test) \n",
        "print(\"정확도:\", accuracy_score(y_test, predicted)) \n",
        "classifier_answer_list.append(accuracy_score(y_test, predicted))"
      ],
      "metadata": {
        "id": "vjQyWVzXb82Q",
        "colab": {
          "base_uri": "https://localhost:8080/"
        },
        "outputId": "e82215a0-05fc-47b9-edd8-d3284533c6e3"
      },
      "execution_count": 13,
      "outputs": [
        {
          "output_type": "stream",
          "name": "stdout",
          "text": [
            "정확도: 0.813446126447017\n"
          ]
        },
        {
          "output_type": "stream",
          "name": "stderr",
          "text": [
            "/usr/local/lib/python3.7/dist-packages/sklearn/linear_model/_logistic.py:818: ConvergenceWarning: lbfgs failed to converge (status=1):\n",
            "STOP: TOTAL NO. of ITERATIONS REACHED LIMIT.\n",
            "\n",
            "Increase the number of iterations (max_iter) or scale the data as shown in:\n",
            "    https://scikit-learn.org/stable/modules/preprocessing.html\n",
            "Please also refer to the documentation for alternative solver options:\n",
            "    https://scikit-learn.org/stable/modules/linear_model.html#logistic-regression\n",
            "  extra_warning_msg=_LOGISTIC_SOLVER_CONVERGENCE_MSG,\n"
          ]
        }
      ]
    },
    {
      "cell_type": "code",
      "source": [
        "# 4. SVM\n",
        "\n",
        "lsvc = LinearSVC(C=1000, penalty='l1', max_iter=500, dual=False)\n",
        "lsvc.fit(tfidfv, y_train)\n",
        "\n",
        "predicted = lsvc.predict(tfidfv_test) \n",
        "print(\"정확도:\", accuracy_score(y_test, predicted)) \n",
        "classifier_answer_list.append(accuracy_score(y_test, predicted))"
      ],
      "metadata": {
        "id": "dr7Ufin5cDUE",
        "colab": {
          "base_uri": "https://localhost:8080/"
        },
        "outputId": "a31d9cb5-2352-40de-f68d-e20238314b0c"
      },
      "execution_count": 14,
      "outputs": [
        {
          "output_type": "stream",
          "name": "stdout",
          "text": [
            "정확도: 0.786286731967943\n"
          ]
        },
        {
          "output_type": "stream",
          "name": "stderr",
          "text": [
            "/usr/local/lib/python3.7/dist-packages/sklearn/svm/_base.py:1208: ConvergenceWarning: Liblinear failed to converge, increase the number of iterations.\n",
            "  ConvergenceWarning,\n"
          ]
        }
      ]
    },
    {
      "cell_type": "code",
      "source": [
        "# 5.Decision Tree\n",
        "\n",
        "tree = DecisionTreeClassifier(max_depth=10, random_state=0)\n",
        "tree.fit(tfidfv, y_train)\n",
        "\n",
        "predicted = tree.predict(tfidfv_test) \n",
        "print(\"정확도:\", accuracy_score(y_test, predicted)) \n",
        "classifier_answer_list.append(accuracy_score(y_test, predicted))"
      ],
      "metadata": {
        "id": "mNwuXIZacI2i",
        "colab": {
          "base_uri": "https://localhost:8080/"
        },
        "outputId": "fe54f1fa-f248-48b0-b2ed-cae61eef19fc"
      },
      "execution_count": 15,
      "outputs": [
        {
          "output_type": "stream",
          "name": "stdout",
          "text": [
            "정확도: 0.6211041852181657\n"
          ]
        }
      ]
    },
    {
      "cell_type": "code",
      "source": [
        "# 6. Random Forest\n",
        "\n",
        "forest = RandomForestClassifier(n_estimators=5, random_state=0)\n",
        "forest.fit(tfidfv, y_train)\n",
        "\n",
        "predicted = forest.predict(tfidfv_test) \n",
        "print(\"정확도:\", accuracy_score(y_test, predicted)) \n",
        "classifier_answer_list.append(accuracy_score(y_test, predicted))"
      ],
      "metadata": {
        "id": "zG_K_dIOcV6u",
        "colab": {
          "base_uri": "https://localhost:8080/"
        },
        "outputId": "0bac7604-fb3f-4cbc-bac1-6121d10eeb5c"
      },
      "execution_count": 16,
      "outputs": [
        {
          "output_type": "stream",
          "name": "stdout",
          "text": [
            "정확도: 0.6544968833481746\n"
          ]
        }
      ]
    },
    {
      "cell_type": "code",
      "source": [
        "# 7. GBM\n",
        "\n",
        "grbt = GradientBoostingClassifier(random_state=0) \n",
        "grbt.fit(tfidfv, y_train)\n",
        "\n",
        "predicted = grbt.predict(tfidfv_test) \n",
        "print(\"정확도:\", accuracy_score(y_test, predicted)) \n",
        "classifier_answer_list.append(accuracy_score(y_test, predicted))"
      ],
      "metadata": {
        "id": "Oa6GR-YYcb6q",
        "colab": {
          "base_uri": "https://localhost:8080/"
        },
        "outputId": "a6d6831a-8ca4-448f-99d3-9e02e5804340"
      },
      "execution_count": 17,
      "outputs": [
        {
          "output_type": "stream",
          "name": "stdout",
          "text": [
            "정확도: 0.7702582368655387\n"
          ]
        }
      ]
    },
    {
      "cell_type": "code",
      "source": [
        "# 8. Voting \n",
        "\n",
        "voting_classifier = VotingClassifier(estimators=[\n",
        "         ('lr', LogisticRegression(C=10000, penalty='l2')),\n",
        "        ('cb', ComplementNB()),\n",
        "        ('grbt', GradientBoostingClassifier(random_state=0))\n",
        "], voting='soft', n_jobs=-1)\n",
        "voting_classifier.fit(tfidfv, y_train)\n",
        "\n",
        "predicted = voting_classifier.predict(tfidfv_test) \n",
        "print(\"정확도:\", accuracy_score(y_test, predicted)) \n",
        "classifier_answer_list.append(accuracy_score(y_test, predicted))"
      ],
      "metadata": {
        "id": "1mYSRIRgciTE",
        "colab": {
          "base_uri": "https://localhost:8080/"
        },
        "outputId": "5861ac99-8d28-4cc4-bebb-85135be351ec"
      },
      "execution_count": 18,
      "outputs": [
        {
          "output_type": "stream",
          "name": "stdout",
          "text": [
            "정확도: 0.8187889581478184\n"
          ]
        }
      ]
    },
    {
      "cell_type": "code",
      "source": [
        "# 전체 정리\n",
        "\n",
        "print(\"빈도수 제한없을 때 정확도 리스트\")\n",
        "print()\n",
        "for x in range(len(classifier_list)):\n",
        "    print(classifier_list[x], \":\", classifier_answer_list[x].round(2))"
      ],
      "metadata": {
        "id": "AgsoXWkgcozu",
        "colab": {
          "base_uri": "https://localhost:8080/",
          "height": 372
        },
        "outputId": "e845996f-ddd9-4dd4-d0a5-069f5c8401a7"
      },
      "execution_count": 19,
      "outputs": [
        {
          "output_type": "stream",
          "name": "stdout",
          "text": [
            "빈도수 제한없을 때 정확도 리스트\n",
            "\n",
            "MultinomialNB : 0.76\n",
            "ComplementNB : 0.81\n",
            "Logistic Regression : 0.79\n",
            "LinearSVC : 0.62\n",
            "Decision Tree : 0.65\n",
            "Random Forest : 0.77\n",
            "GradientBoostingClassifier : 0.82\n"
          ]
        },
        {
          "output_type": "error",
          "ename": "IndexError",
          "evalue": "ignored",
          "traceback": [
            "\u001b[0;31m---------------------------------------------------------------------------\u001b[0m",
            "\u001b[0;31mIndexError\u001b[0m                                Traceback (most recent call last)",
            "\u001b[0;32m<ipython-input-19-3e53d920a645>\u001b[0m in \u001b[0;36m<module>\u001b[0;34m()\u001b[0m\n\u001b[1;32m      4\u001b[0m \u001b[0mprint\u001b[0m\u001b[0;34m(\u001b[0m\u001b[0;34m)\u001b[0m\u001b[0;34m\u001b[0m\u001b[0;34m\u001b[0m\u001b[0m\n\u001b[1;32m      5\u001b[0m \u001b[0;32mfor\u001b[0m \u001b[0mx\u001b[0m \u001b[0;32min\u001b[0m \u001b[0mrange\u001b[0m\u001b[0;34m(\u001b[0m\u001b[0mlen\u001b[0m\u001b[0;34m(\u001b[0m\u001b[0mclassifier_list\u001b[0m\u001b[0;34m)\u001b[0m\u001b[0;34m)\u001b[0m\u001b[0;34m:\u001b[0m\u001b[0;34m\u001b[0m\u001b[0;34m\u001b[0m\u001b[0m\n\u001b[0;32m----> 6\u001b[0;31m     \u001b[0mprint\u001b[0m\u001b[0;34m(\u001b[0m\u001b[0mclassifier_list\u001b[0m\u001b[0;34m[\u001b[0m\u001b[0mx\u001b[0m\u001b[0;34m]\u001b[0m\u001b[0;34m,\u001b[0m \u001b[0;34m\":\"\u001b[0m\u001b[0;34m,\u001b[0m \u001b[0mclassifier_answer_list\u001b[0m\u001b[0;34m[\u001b[0m\u001b[0mx\u001b[0m\u001b[0;34m]\u001b[0m\u001b[0;34m.\u001b[0m\u001b[0mround\u001b[0m\u001b[0;34m(\u001b[0m\u001b[0;36m2\u001b[0m\u001b[0;34m)\u001b[0m\u001b[0;34m)\u001b[0m\u001b[0;34m\u001b[0m\u001b[0;34m\u001b[0m\u001b[0m\n\u001b[0m",
            "\u001b[0;31mIndexError\u001b[0m: list index out of range"
          ]
        }
      ]
    },
    {
      "cell_type": "markdown",
      "source": [
        "### 2. 빈도수 상위 5,000개의 단어만 사용"
      ],
      "metadata": {
        "id": "FIblcVtIcwBb"
      }
    },
    {
      "cell_type": "code",
      "source": [
        "(x_train, y_train), (x_test, y_test) = reuters.load_data(num_words=5000, test_split=0.2)"
      ],
      "metadata": {
        "id": "4oNuRHoNcsmY"
      },
      "execution_count": 20,
      "outputs": []
    },
    {
      "cell_type": "code",
      "source": [
        "# 데이터 분포\n",
        "print('훈련용 뉴스의 최대 길이 :{}'.format(max(len(l) for l in x_train)))\n",
        "print('훈련용 뉴스의 평균 길이 :{}'.format(sum(map(len, x_train))/len(x_train)))\n",
        "\n",
        "plt.hist([len(s) for s in x_train], bins=50)\n",
        "plt.xlabel('length of samples')\n",
        "plt.ylabel('number of samples')\n",
        "plt.show()"
      ],
      "metadata": {
        "id": "A3ah1rejc5RL",
        "colab": {
          "base_uri": "https://localhost:8080/",
          "height": 315
        },
        "outputId": "37a8aa24-c85c-4223-a420-3238f0706b68"
      },
      "execution_count": 21,
      "outputs": [
        {
          "output_type": "stream",
          "name": "stdout",
          "text": [
            "훈련용 뉴스의 최대 길이 :2376\n",
            "훈련용 뉴스의 평균 길이 :145.5398574927633\n"
          ]
        },
        {
          "output_type": "display_data",
          "data": {
            "text/plain": [
              "<Figure size 432x288 with 1 Axes>"
            ],
            "image/png": "[encoded data removed]"
          },
          "metadata": {
            "needs_background": "light"
          }
        }
      ]
    },
    {
      "cell_type": "code",
      "source": [
        "# 타겟데이터 파악\n",
        "fig, axe = plt.subplots(ncols=1)\n",
        "fig.set_size_inches(12,5)\n",
        "sns.countplot(y_train)"
      ],
      "metadata": {
        "id": "VMBJXk1FdFgH",
        "colab": {
          "base_uri": "https://localhost:8080/",
          "height": 394
        },
        "outputId": "d3758f0e-13f3-44fb-e889-689b302af2a8"
      },
      "execution_count": 22,
      "outputs": [
        {
          "output_type": "stream",
          "name": "stderr",
          "text": [
            "/usr/local/lib/python3.7/dist-packages/seaborn/_decorators.py:43: FutureWarning: Pass the following variable as a keyword arg: x. From version 0.12, the only valid positional argument will be `data`, and passing other arguments without an explicit keyword will result in an error or misinterpretation.\n",
            "  FutureWarning\n"
          ]
        },
        {
          "output_type": "execute_result",
          "data": {
            "text/plain": [
              "<matplotlib.axes._subplots.AxesSubplot at 0x7f87399014d0>"
            ]
          },
          "metadata": {},
          "execution_count": 22
        },
        {
          "output_type": "display_data",
          "data": {
            "text/plain": [
              "<Figure size 864x360 with 1 Axes>"
            ],
            "image/png": "[encoded data removed]"
          },
          "metadata": {
            "needs_background": "light"
          }
        }
      ]
    },
    {
      "cell_type": "code",
      "source": [
        "# 텍스트데이터로 복원\n",
        "word_index = reuters.get_word_index(path=\"reuters_word_index.json\")\n",
        "\n",
        "# 인덱스 +3\n",
        "index_to_word = {index + 3 : word for word, index in word_index.items()}\n",
        "\n",
        "# index_to_word에 숫자 0은 <pad>, 숫자 1은 <sos>, 숫자 2는 <unk>를 넣어줍니다.\n",
        "for index, token in enumerate((\"<pad>\", \"<sos>\", \"<unk>\")):\n",
        "    index_to_word[index]=token"
      ],
      "metadata": {
        "id": "iN6ISoqadH2C"
      },
      "execution_count": 23,
      "outputs": []
    },
    {
      "cell_type": "code",
      "source": [
        "# 전체 학습데이터 복원\n",
        "decoded = []\n",
        "for i in range(len(x_train)):\n",
        "    t = ' '.join([index_to_word[index] for index in x_train[i]])\n",
        "    decoded.append(t)\n",
        "\n",
        "x_train = decoded"
      ],
      "metadata": {
        "id": "jYuVRm0cdKnu"
      },
      "execution_count": 24,
      "outputs": []
    },
    {
      "cell_type": "code",
      "source": [
        "# 전체 테스트데이터 복원\n",
        "decoded = []\n",
        "for i in range(len(x_test)):\n",
        "    t = ' '.join([index_to_word[index] for index in x_test[i]])\n",
        "    decoded.append(t)\n",
        "\n",
        "x_test = decoded"
      ],
      "metadata": {
        "id": "XQtf2_izdNJ2"
      },
      "execution_count": 25,
      "outputs": []
    },
    {
      "cell_type": "code",
      "source": [
        "# DTM 확인\n",
        "dtmvector = CountVectorizer()\n",
        "x_train_dtm = dtmvector.fit_transform(x_train)\n",
        "print(x_train_dtm.shape)\n",
        "\n",
        "# 테스트데이터\n",
        "x_test_dtm = dtmvector.transform(x_test) "
      ],
      "metadata": {
        "id": "q3dqjCw-dPmD",
        "colab": {
          "base_uri": "https://localhost:8080/"
        },
        "outputId": "a91c3410-ad0c-4504-c55f-d208f629d5a5"
      },
      "execution_count": 26,
      "outputs": [
        {
          "output_type": "stream",
          "name": "stdout",
          "text": [
            "(8982, 4867)\n"
          ]
        }
      ]
    },
    {
      "cell_type": "code",
      "source": [
        "# TF-IDF Matrix확인\n",
        "tfidf_transformer = TfidfTransformer()\n",
        "tfidfv = tfidf_transformer.fit_transform(x_train_dtm)\n",
        "print(tfidfv.shape)\n",
        "\n",
        "# 테스트데이터\n",
        "tfidfv_test = tfidf_transformer.transform(x_test_dtm) "
      ],
      "metadata": {
        "id": "V3NDqqNUdSAJ",
        "colab": {
          "base_uri": "https://localhost:8080/"
        },
        "outputId": "15d9de24-4eea-4b6d-a12c-a8f04ba00f0e"
      },
      "execution_count": 27,
      "outputs": [
        {
          "output_type": "stream",
          "name": "stdout",
          "text": [
            "(8982, 4867)\n"
          ]
        }
      ]
    },
    {
      "cell_type": "code",
      "source": [
        "# 결과값 비교를 위한 리스트 선언\n",
        "classifier_list = [\"MultinomialNB\", \"ComplementNB\", \"Logistic Regression\", \"LinearSVC\", \"Decision Tree\", \"Random Forest\", \"GradientBoostingClassifier\", \"Voting\"]\n",
        "classifier_answer_list = []"
      ],
      "metadata": {
        "id": "RoJGiFc2dU0a"
      },
      "execution_count": 28,
      "outputs": []
    },
    {
      "cell_type": "code",
      "source": [
        "# 1. 나이브 베이즈\n",
        "\n",
        "mod = MultinomialNB()\n",
        "mod.fit(tfidfv, y_train)\n",
        "\n",
        "predicted = mod.predict(tfidfv_test) \n",
        "print(\"정확도:\", accuracy_score(y_test, predicted)) \n",
        "classifier_answer_list.append(accuracy_score(y_test, predicted))"
      ],
      "metadata": {
        "id": "mffAozB4deN9",
        "colab": {
          "base_uri": "https://localhost:8080/"
        },
        "outputId": "d3626d9f-b8c7-449e-85aa-fbac0b70b8a2"
      },
      "execution_count": 29,
      "outputs": [
        {
          "output_type": "stream",
          "name": "stdout",
          "text": [
            "정확도: 0.6731967943009796\n"
          ]
        }
      ]
    },
    {
      "cell_type": "code",
      "source": [
        "# 2. CNB\n",
        "\n",
        "cb = ComplementNB()\n",
        "cb.fit(tfidfv, y_train)\n",
        "\n",
        "predicted = cb.predict(tfidfv_test) \n",
        "print(\"정확도:\", accuracy_score(y_test, predicted)) \n",
        "classifier_answer_list.append(accuracy_score(y_test, predicted))"
      ],
      "metadata": {
        "id": "_lQfd2h4dhFa",
        "colab": {
          "base_uri": "https://localhost:8080/"
        },
        "outputId": "fd8ff41d-0918-4978-affc-9507042fccc2"
      },
      "execution_count": 30,
      "outputs": [
        {
          "output_type": "stream",
          "name": "stdout",
          "text": [
            "정확도: 0.7707034728406055\n"
          ]
        }
      ]
    },
    {
      "cell_type": "code",
      "source": [
        "# 3. 로지스틱 회귀\n",
        "\n",
        "lr = LogisticRegression(C=10000, penalty='l2')\n",
        "lr.fit(tfidfv, y_train)\n",
        "\n",
        "predicted = lr.predict(tfidfv_test) \n",
        "print(\"정확도:\", accuracy_score(y_test, predicted)) \n",
        "classifier_answer_list.append(accuracy_score(y_test, predicted))"
      ],
      "metadata": {
        "id": "e4R7dRhUdlog",
        "colab": {
          "base_uri": "https://localhost:8080/"
        },
        "outputId": "d9474d0c-605c-4d1b-d104-86fe99fe4939"
      },
      "execution_count": 31,
      "outputs": [
        {
          "output_type": "stream",
          "name": "stdout",
          "text": [
            "정확도: 0.8058771148708815\n"
          ]
        },
        {
          "output_type": "stream",
          "name": "stderr",
          "text": [
            "/usr/local/lib/python3.7/dist-packages/sklearn/linear_model/_logistic.py:818: ConvergenceWarning: lbfgs failed to converge (status=1):\n",
            "STOP: TOTAL NO. of ITERATIONS REACHED LIMIT.\n",
            "\n",
            "Increase the number of iterations (max_iter) or scale the data as shown in:\n",
            "    https://scikit-learn.org/stable/modules/preprocessing.html\n",
            "Please also refer to the documentation for alternative solver options:\n",
            "    https://scikit-learn.org/stable/modules/linear_model.html#logistic-regression\n",
            "  extra_warning_msg=_LOGISTIC_SOLVER_CONVERGENCE_MSG,\n"
          ]
        }
      ]
    },
    {
      "cell_type": "code",
      "source": [
        "# 4. SVM\n",
        "\n",
        "lsvc = LinearSVC(C=1000, penalty='l1', max_iter=500, dual=False)\n",
        "lsvc.fit(tfidfv, y_train)\n",
        "\n",
        "predicted = lsvc.predict(tfidfv_test) \n",
        "print(\"정확도:\", accuracy_score(y_test, predicted)) \n",
        "classifier_answer_list.append(accuracy_score(y_test, predicted))"
      ],
      "metadata": {
        "id": "p2edFnnedqBF",
        "colab": {
          "base_uri": "https://localhost:8080/"
        },
        "outputId": "bea30fc9-05ed-469d-d96a-b484e6ba63a0"
      },
      "execution_count": 32,
      "outputs": [
        {
          "output_type": "stream",
          "name": "stdout",
          "text": [
            "정확도: 0.763579697239537\n"
          ]
        },
        {
          "output_type": "stream",
          "name": "stderr",
          "text": [
            "/usr/local/lib/python3.7/dist-packages/sklearn/svm/_base.py:1208: ConvergenceWarning: Liblinear failed to converge, increase the number of iterations.\n",
            "  ConvergenceWarning,\n"
          ]
        }
      ]
    },
    {
      "cell_type": "code",
      "source": [
        "# 5. Decision Tree\n",
        "\n",
        "tree = DecisionTreeClassifier(max_depth=10, random_state=0)\n",
        "tree.fit(tfidfv, y_train)\n",
        "\n",
        "predicted = tree.predict(tfidfv_test) \n",
        "print(\"정확도:\", accuracy_score(y_test, predicted)) \n",
        "classifier_answer_list.append(accuracy_score(y_test, predicted))"
      ],
      "metadata": {
        "id": "S4rey_CvduTW",
        "colab": {
          "base_uri": "https://localhost:8080/"
        },
        "outputId": "abbfffae-a553-49ed-bbd9-d87c1a6ae97d"
      },
      "execution_count": 33,
      "outputs": [
        {
          "output_type": "stream",
          "name": "stdout",
          "text": [
            "정확도: 0.6179875333926982\n"
          ]
        }
      ]
    },
    {
      "cell_type": "code",
      "source": [
        "# 6. Randcom Forest\n",
        "\n",
        "forest = RandomForestClassifier(n_estimators=5, random_state=0)\n",
        "forest.fit(tfidfv, y_train)\n",
        "\n",
        "predicted = forest.predict(tfidfv_test) \n",
        "print(\"정확도:\", accuracy_score(y_test, predicted)) \n",
        "classifier_answer_list.append(accuracy_score(y_test, predicted))"
      ],
      "metadata": {
        "id": "wj6wabVLdzQW",
        "colab": {
          "base_uri": "https://localhost:8080/"
        },
        "outputId": "0a1bdf09-b572-4306-e907-1db88483b9bd"
      },
      "execution_count": 34,
      "outputs": [
        {
          "output_type": "stream",
          "name": "stdout",
          "text": [
            "정확도: 0.701246660730187\n"
          ]
        }
      ]
    },
    {
      "cell_type": "code",
      "source": [
        "# 7. GBM\n",
        "\n",
        "grbt = GradientBoostingClassifier(random_state=0) \n",
        "grbt.fit(tfidfv, y_train)\n",
        "\n",
        "predicted = grbt.predict(tfidfv_test) \n",
        "print(\"정확도:\", accuracy_score(y_test, predicted)) \n",
        "classifier_answer_list.append(accuracy_score(y_test, predicted))"
      ],
      "metadata": {
        "id": "GZH6lszhd5d5",
        "colab": {
          "base_uri": "https://localhost:8080/"
        },
        "outputId": "0fce1e21-650c-4f33-d792-c6bd94a3829f"
      },
      "execution_count": 35,
      "outputs": [
        {
          "output_type": "stream",
          "name": "stdout",
          "text": [
            "정확도: 0.767586821015138\n"
          ]
        }
      ]
    },
    {
      "cell_type": "code",
      "source": [
        "# 8. Voting \n",
        "\n",
        "voting_classifier = VotingClassifier(estimators=[\n",
        "         ('lr', LogisticRegression(C=10000, penalty='l2')),\n",
        "        ('cb', ComplementNB()),\n",
        "        ('grbt', GradientBoostingClassifier(random_state=0))\n",
        "], voting='soft', n_jobs=-1)\n",
        "voting_classifier.fit(tfidfv, y_train)\n",
        "\n",
        "predicted = voting_classifier.predict(tfidfv_test)  \n",
        "print(\"정확도:\", accuracy_score(y_test, predicted))  \n",
        "classifier_answer_list.append(accuracy_score(y_test, predicted))"
      ],
      "metadata": {
        "id": "Y_pqgUyZd9dr",
        "colab": {
          "base_uri": "https://localhost:8080/"
        },
        "outputId": "e9f4b0bb-8c95-4283-b071-7b609eba9d6e"
      },
      "execution_count": 36,
      "outputs": [
        {
          "output_type": "stream",
          "name": "stdout",
          "text": [
            "정확도: 0.8161175422974176\n"
          ]
        }
      ]
    },
    {
      "cell_type": "code",
      "source": [
        "# 전체 정리\n",
        "\n",
        "print(\"빈도수 상위 5,000개의 단어만 사용했을 때 정확도 리스트\")\n",
        "\n",
        "for x in range(len(classifier_list)):\n",
        "    print(classifier_list[x], \":\", classifier_answer_list[x].round(2))"
      ],
      "metadata": {
        "id": "rMdD9JMkeDvd",
        "colab": {
          "base_uri": "https://localhost:8080/"
        },
        "outputId": "361334af-305d-4140-a113-b608bc3b153d"
      },
      "execution_count": 37,
      "outputs": [
        {
          "output_type": "stream",
          "name": "stdout",
          "text": [
            "빈도수 상위 5,000개의 단어만 사용했을 때 정확도 리스트\n",
            "MultinomialNB : 0.67\n",
            "ComplementNB : 0.77\n",
            "Logistic Regression : 0.81\n",
            "LinearSVC : 0.76\n",
            "Decision Tree : 0.62\n",
            "Random Forest : 0.7\n",
            "GradientBoostingClassifier : 0.77\n",
            "Voting : 0.82\n"
          ]
        }
      ]
    },
    {
      "cell_type": "markdown",
      "source": [
        "### 3. 직접 단어 개수를 설정해서 사용\n",
        "위 단계에서 5000으로 제시된 num_words를 다양하게 바꾸어 가며 성능을 확인해보세요. 변화된 단어 수에 따른 모델의 성능을 연구해 보세요.  \n",
        "최소 3가지 경우 이상을 실험해 보기를 권합니다."
      ],
      "metadata": {
        "id": "q1hKXeaaeHU2"
      }
    },
    {
      "cell_type": "code",
      "source": [
        "# 데이터 로드\n",
        "(x_train, y_train), (x_test, y_test) = reuters.load_data(num_words=8000, test_split=0.2)"
      ],
      "metadata": {
        "id": "us2ElHo1eGUz"
      },
      "execution_count": 38,
      "outputs": []
    },
    {
      "cell_type": "code",
      "source": [
        "\n",
        "# 텍스트데이터로 복원\n",
        "word_index = reuters.get_word_index(path=\"reuters_word_index.json\")\n",
        "\n",
        "# 인덱스 +3\n",
        "index_to_word = {index + 3 : word for word, index in word_index.items()}\n",
        "\n",
        "# index_to_word에 숫자 0은 <pad>, 숫자 1은 <sos>, 숫자 2는 <unk>를 넣어줍니다.\n",
        "for index, token in enumerate((\"<pad>\", \"<sos>\", \"<unk>\")):\n",
        "    index_to_word[index]=token"
      ],
      "metadata": {
        "id": "6CIflF4SegBS"
      },
      "execution_count": 39,
      "outputs": []
    },
    {
      "cell_type": "code",
      "source": [
        "# 전체 학습데이터 복원\n",
        "decoded = []\n",
        "for i in range(len(x_train)):\n",
        "    t = ' '.join([index_to_word[index] for index in x_train[i]])\n",
        "    decoded.append(t)\n",
        "\n",
        "x_train = decoded"
      ],
      "metadata": {
        "id": "W1pihyF_ejgj"
      },
      "execution_count": 40,
      "outputs": []
    },
    {
      "cell_type": "code",
      "source": [
        "# 전체 테스트데이터 복원\n",
        "decoded = []\n",
        "for i in range(len(x_test)):\n",
        "    t = ' '.join([index_to_word[index] for index in x_test[i]])\n",
        "    decoded.append(t)\n",
        "\n",
        "x_test = decoded"
      ],
      "metadata": {
        "id": "F0KHr9b7em93"
      },
      "execution_count": 41,
      "outputs": []
    },
    {
      "cell_type": "code",
      "source": [
        "# DTM 확인\n",
        "dtmvector = CountVectorizer()\n",
        "x_train_dtm = dtmvector.fit_transform(x_train)\n",
        "print(x_train_dtm.shape)\n",
        "\n",
        "# 테스트데이터\n",
        "x_test_dtm = dtmvector.transform(x_test)  "
      ],
      "metadata": {
        "id": "FQwb9h8QepdB",
        "colab": {
          "base_uri": "https://localhost:8080/"
        },
        "outputId": "d2fd3fdb-18c9-4def-e14f-9d8c8ab7a4c0"
      },
      "execution_count": 42,
      "outputs": [
        {
          "output_type": "stream",
          "name": "stdout",
          "text": [
            "(8982, 7772)\n"
          ]
        }
      ]
    },
    {
      "cell_type": "code",
      "source": [
        "# TF-IDF Matrix확인\n",
        "tfidf_transformer = TfidfTransformer()\n",
        "tfidfv = tfidf_transformer.fit_transform(x_train_dtm)\n",
        "print(tfidfv.shape)\n",
        "\n",
        "# 테스트데이터\n",
        "tfidfv_test = tfidf_transformer.transform(x_test_dtm)  "
      ],
      "metadata": {
        "id": "yV8y9rzOerxN",
        "colab": {
          "base_uri": "https://localhost:8080/"
        },
        "outputId": "a5463db3-f014-4369-ea54-535591b96ce2"
      },
      "execution_count": 43,
      "outputs": [
        {
          "output_type": "stream",
          "name": "stdout",
          "text": [
            "(8982, 7772)\n"
          ]
        }
      ]
    },
    {
      "cell_type": "code",
      "source": [
        "# 결과값 비교를 위한 리스트 선언\n",
        "classifier_list = [\"MultinomialNB\", \"ComplementNB\", \"Logistic Regression\", \"LinearSVC\", \"Decision Tree\", \"Random Forest\", \"GradientBoostingClassifier\", \"Voting\"]\n",
        "classifier_answer_list = []"
      ],
      "metadata": {
        "id": "D4S9hcxCeuis"
      },
      "execution_count": 44,
      "outputs": []
    },
    {
      "cell_type": "code",
      "source": [
        "mod = MultinomialNB()\n",
        "mod.fit(tfidfv, y_train)\n",
        "\n",
        "predicted = mod.predict(tfidfv_test)  \n",
        "print(\"정확도:\", accuracy_score(y_test, predicted))  \n",
        "classifier_answer_list.append(accuracy_score(y_test, predicted))"
      ],
      "metadata": {
        "id": "loyrGYGSewfy",
        "colab": {
          "base_uri": "https://localhost:8080/"
        },
        "outputId": "7150936f-8cae-46af-91f3-b97cb0c4d998"
      },
      "execution_count": 45,
      "outputs": [
        {
          "output_type": "stream",
          "name": "stdout",
          "text": [
            "정확도: 0.6625111308993766\n"
          ]
        }
      ]
    },
    {
      "cell_type": "code",
      "source": [
        "cb = ComplementNB()\n",
        "cb.fit(tfidfv, y_train)\n",
        "\n",
        "predicted = cb.predict(tfidfv_test)  \n",
        "print(\"정확도:\", accuracy_score(y_test, predicted))  \n",
        "classifier_answer_list.append(accuracy_score(y_test, predicted))"
      ],
      "metadata": {
        "id": "b1puR9m_eywh",
        "colab": {
          "base_uri": "https://localhost:8080/"
        },
        "outputId": "c6a4db94-ef82-495f-94e4-2084771c741b"
      },
      "execution_count": 46,
      "outputs": [
        {
          "output_type": "stream",
          "name": "stdout",
          "text": [
            "정확도: 0.7707034728406055\n"
          ]
        }
      ]
    },
    {
      "cell_type": "code",
      "source": [
        "lr = LogisticRegression(C=10000, penalty='l2')\n",
        "lr.fit(tfidfv, y_train)\n",
        "\n",
        "predicted = lr.predict(tfidfv_test)  \n",
        "print(\"정확도:\", accuracy_score(y_test, predicted))  \n",
        "classifier_answer_list.append(accuracy_score(y_test, predicted))"
      ],
      "metadata": {
        "id": "j71sBKiBe02f",
        "colab": {
          "base_uri": "https://localhost:8080/"
        },
        "outputId": "293369f4-2720-498f-e201-96493eb53928"
      },
      "execution_count": 47,
      "outputs": [
        {
          "output_type": "stream",
          "name": "stdout",
          "text": [
            "정확도: 0.8098842386464826\n"
          ]
        },
        {
          "output_type": "stream",
          "name": "stderr",
          "text": [
            "/usr/local/lib/python3.7/dist-packages/sklearn/linear_model/_logistic.py:818: ConvergenceWarning: lbfgs failed to converge (status=1):\n",
            "STOP: TOTAL NO. of ITERATIONS REACHED LIMIT.\n",
            "\n",
            "Increase the number of iterations (max_iter) or scale the data as shown in:\n",
            "    https://scikit-learn.org/stable/modules/preprocessing.html\n",
            "Please also refer to the documentation for alternative solver options:\n",
            "    https://scikit-learn.org/stable/modules/linear_model.html#logistic-regression\n",
            "  extra_warning_msg=_LOGISTIC_SOLVER_CONVERGENCE_MSG,\n"
          ]
        }
      ]
    },
    {
      "cell_type": "code",
      "source": [
        "lsvc = LinearSVC(C=1000, penalty='l1', max_iter=500, dual=False)\n",
        "lsvc.fit(tfidfv, y_train)\n",
        "\n",
        "predicted = lsvc.predict(tfidfv_test)  \n",
        "print(\"정확도:\", accuracy_score(y_test, predicted))  \n",
        "classifier_answer_list.append(accuracy_score(y_test, predicted))"
      ],
      "metadata": {
        "id": "2zeofYzDe27Q",
        "colab": {
          "base_uri": "https://localhost:8080/"
        },
        "outputId": "4894427f-5406-48c1-8019-2d865f4d06e9"
      },
      "execution_count": 48,
      "outputs": [
        {
          "output_type": "stream",
          "name": "stdout",
          "text": [
            "정확도: 0.7796081923419412\n"
          ]
        },
        {
          "output_type": "stream",
          "name": "stderr",
          "text": [
            "/usr/local/lib/python3.7/dist-packages/sklearn/svm/_base.py:1208: ConvergenceWarning: Liblinear failed to converge, increase the number of iterations.\n",
            "  ConvergenceWarning,\n"
          ]
        }
      ]
    },
    {
      "cell_type": "code",
      "source": [
        "tree = DecisionTreeClassifier(max_depth=10, random_state=0)\n",
        "tree.fit(tfidfv, y_train)\n",
        "\n",
        "predicted = tree.predict(tfidfv_test)  \n",
        "print(\"정확도:\", accuracy_score(y_test, predicted))  \n",
        "classifier_answer_list.append(accuracy_score(y_test, predicted))"
      ],
      "metadata": {
        "id": "CFGKT0w8e5aV",
        "colab": {
          "base_uri": "https://localhost:8080/"
        },
        "outputId": "bddff780-5c1f-4f68-9c8f-ae7b3a850643"
      },
      "execution_count": 49,
      "outputs": [
        {
          "output_type": "stream",
          "name": "stdout",
          "text": [
            "정확도: 0.6206589492430988\n"
          ]
        }
      ]
    },
    {
      "cell_type": "code",
      "source": [
        "forest = RandomForestClassifier(n_estimators=5, random_state=0)\n",
        "forest.fit(tfidfv, y_train)\n",
        "\n",
        "predicted = forest.predict(tfidfv_test)  \n",
        "print(\"정확도:\", accuracy_score(y_test, predicted))  \n",
        "classifier_answer_list.append(accuracy_score(y_test, predicted))"
      ],
      "metadata": {
        "id": "s8bkJuLwe7_j",
        "colab": {
          "base_uri": "https://localhost:8080/"
        },
        "outputId": "a0d1c58f-1410-4493-cff5-0b0a03fd7b11"
      },
      "execution_count": 50,
      "outputs": [
        {
          "output_type": "stream",
          "name": "stdout",
          "text": [
            "정확도: 0.6669634906500446\n"
          ]
        }
      ]
    },
    {
      "cell_type": "code",
      "source": [
        "grbt = GradientBoostingClassifier(random_state=0) # verbose=3\n",
        "grbt.fit(tfidfv, y_train)\n",
        "\n",
        "predicted = grbt.predict(tfidfv_test)  \n",
        "print(\"정확도:\", accuracy_score(y_test, predicted))  \n",
        "classifier_answer_list.append(accuracy_score(y_test, predicted))"
      ],
      "metadata": {
        "id": "yk1XD7gce-b1",
        "colab": {
          "base_uri": "https://localhost:8080/"
        },
        "outputId": "cd868480-2367-4d28-bc18-960c6b09a20b"
      },
      "execution_count": 51,
      "outputs": [
        {
          "output_type": "stream",
          "name": "stdout",
          "text": [
            "정확도: 0.7644701691896705\n"
          ]
        }
      ]
    },
    {
      "cell_type": "code",
      "source": [
        "voting_classifier = VotingClassifier(estimators=[\n",
        "         ('lr', LogisticRegression(C=10000, penalty='l2')),\n",
        "        ('cb', ComplementNB()),\n",
        "        ('grbt', GradientBoostingClassifier(random_state=0))\n",
        "], voting='soft', n_jobs=-1)\n",
        "voting_classifier.fit(tfidfv, y_train)\n",
        "\n",
        "predicted = voting_classifier.predict(tfidfv_test)  \n",
        "print(\"정확도:\", accuracy_score(y_test, predicted))  \n",
        "classifier_answer_list.append(accuracy_score(y_test, predicted))"
      ],
      "metadata": {
        "id": "op8nWO8pfAlj",
        "colab": {
          "base_uri": "https://localhost:8080/"
        },
        "outputId": "a3fdc983-eacb-49e4-ddb0-37dd65357319"
      },
      "execution_count": 52,
      "outputs": [
        {
          "output_type": "stream",
          "name": "stdout",
          "text": [
            "정확도: 0.813446126447017\n"
          ]
        }
      ]
    },
    {
      "cell_type": "code",
      "source": [
        "# 전체 정리\n",
        "\n",
        "print(\"빈도수 상위 8,500개의 단어만 사용했을 때 정확도 리스트\")\n",
        "\n",
        "for x in range(len(classifier_list)):\n",
        "    print(classifier_list[x], \":\", classifier_answer_list[x].round(2))"
      ],
      "metadata": {
        "id": "oZbzSsV7fC7H",
        "colab": {
          "base_uri": "https://localhost:8080/"
        },
        "outputId": "197960e3-d31c-4f09-dba3-12f1a1fecb23"
      },
      "execution_count": 53,
      "outputs": [
        {
          "output_type": "stream",
          "name": "stdout",
          "text": [
            "빈도수 상위 8,500개의 단어만 사용했을 때 정확도 리스트\n",
            "MultinomialNB : 0.66\n",
            "ComplementNB : 0.77\n",
            "Logistic Regression : 0.81\n",
            "LinearSVC : 0.78\n",
            "Decision Tree : 0.62\n",
            "Random Forest : 0.67\n",
            "GradientBoostingClassifier : 0.76\n",
            "Voting : 0.81\n"
          ]
        }
      ]
    },
    {
      "cell_type": "markdown",
      "source": [
        "### 4. 딥러닝 모델과 비교해 보기\n",
        "위 과정을 통해 나온 최적의 모델과 단어 수 조건에서, 본인이 선택한 다른 모델을 적용한 결과와 비교해 봅시다. 감정 분석 등에 사용했던  \n",
        " RNN이나 1-D CNN 등의 딥러닝 모델 중 하나를 선택해서 오늘 사용했던 데이터셋을 학습해 보고 나오는 결과를 비교해 봅시다.   \n",
        " 단, 공정한 비교를 위해 이때 Word2Vec 등의 pretrained model은 사용하지 않도록 합니다."
      ],
      "metadata": {
        "id": "hsy1hzA3fHj3"
      }
    },
    {
      "cell_type": "code",
      "source": [
        "import numpy as np\n",
        "from keras.preprocessing import sequence\n",
        "from tensorflow.keras.datasets import reuters\n",
        "import matplotlib.pyplot as plt"
      ],
      "metadata": {
        "id": "FqvogyC0fG_5"
      },
      "execution_count": 54,
      "outputs": []
    },
    {
      "cell_type": "code",
      "source": [
        "# 데이터 로드\n",
        "from keras.datasets import reuters\n",
        "(train_data, train_labels), (test_data, test_labels) = reuters.load_data(num_words=10000)"
      ],
      "metadata": {
        "id": "8OEJzof_fW6r"
      },
      "execution_count": 55,
      "outputs": []
    },
    {
      "cell_type": "code",
      "source": [
        "print(train_data.shape, train_labels.shape)"
      ],
      "metadata": {
        "id": "QcjDAzGcfY6f",
        "colab": {
          "base_uri": "https://localhost:8080/"
        },
        "outputId": "59bf8734-b82a-445d-8996-0ce50c6dd49d"
      },
      "execution_count": 56,
      "outputs": [
        {
          "output_type": "stream",
          "name": "stdout",
          "text": [
            "(8982,) (8982,)\n"
          ]
        }
      ]
    },
    {
      "cell_type": "code",
      "source": [
        "print(test_data.shape, test_labels.shape)"
      ],
      "metadata": {
        "id": "t7BQ4gqofa66",
        "colab": {
          "base_uri": "https://localhost:8080/"
        },
        "outputId": "7aad6fee-2439-4652-c466-8aeb9af395b8"
      },
      "execution_count": 57,
      "outputs": [
        {
          "output_type": "stream",
          "name": "stdout",
          "text": [
            "(2246,) (2246,)\n"
          ]
        }
      ]
    },
    {
      "cell_type": "code",
      "source": [
        "\n",
        "from keras.utils.np_utils import to_categorical\n",
        "\n",
        "def vectorize_sequences(sequences, dimension=10000):\n",
        "    results = np.zeros((len(sequences), dimension))\n",
        "    for i, sequence in enumerate(sequences):\n",
        "        results[i, sequence] = 1.\n",
        "    return results\n",
        "\n",
        "x_train = vectorize_sequences(train_data)\n",
        "x_test = vectorize_sequences(test_data)"
      ],
      "metadata": {
        "id": "c2OzFe_pfd-9"
      },
      "execution_count": 58,
      "outputs": []
    },
    {
      "cell_type": "code",
      "source": [
        "# 원핫인코딩을 해줍시다\n",
        "from keras.utils.np_utils import to_categorical\n",
        "\n",
        "one_hot_train_labels = to_categorical(train_labels)\n",
        "one_hot_test_labels = to_categorical(test_labels)"
      ],
      "metadata": {
        "id": "0ltIvBLCfgXl"
      },
      "execution_count": 59,
      "outputs": []
    },
    {
      "cell_type": "code",
      "source": [
        "from keras import models\n",
        "from keras import layers\n",
        "\n",
        "# 모델 생성\n",
        "model = models.Sequential()\n",
        "model.add(layers.Dense(256, activation='relu', input_shape=(10000,)))\n",
        "model.add(layers.Dense(124, activation='relu'))\n",
        "model.add(layers.Dense(64, activation='relu'))\n",
        "model.add(layers.Dense(46, activation='softmax')) # 클래스가 46개"
      ],
      "metadata": {
        "id": "nLcDODpufiqS"
      },
      "execution_count": 60,
      "outputs": []
    },
    {
      "cell_type": "code",
      "source": [
        "model.summary()"
      ],
      "metadata": {
        "id": "3KV9hJgNfk1J",
        "colab": {
          "base_uri": "https://localhost:8080/"
        },
        "outputId": "947d3cf3-d92b-413c-8c95-b7bb26ede569"
      },
      "execution_count": 61,
      "outputs": [
        {
          "output_type": "stream",
          "name": "stdout",
          "text": [
            "Model: \"sequential\"\n",
            "_________________________________________________________________\n",
            " Layer (type)                Output Shape              Param #   \n",
            "=================================================================\n",
            " dense (Dense)               (None, 256)               2560256   \n",
            "                                                                 \n",
            " dense_1 (Dense)             (None, 124)               31868     \n",
            "                                                                 \n",
            " dense_2 (Dense)             (None, 64)                8000      \n",
            "                                                                 \n",
            " dense_3 (Dense)             (None, 46)                2990      \n",
            "                                                                 \n",
            "=================================================================\n",
            "Total params: 2,603,114\n",
            "Trainable params: 2,603,114\n",
            "Non-trainable params: 0\n",
            "_________________________________________________________________\n"
          ]
        }
      ]
    },
    {
      "cell_type": "code",
      "source": [
        "# 모델 컴파일 설정\n",
        "model.compile(optimizer='adam', loss='categorical_crossentropy', metrics=['accuracy'])"
      ],
      "metadata": {
        "id": "fVuTDrcdfuQc"
      },
      "execution_count": 62,
      "outputs": []
    },
    {
      "cell_type": "code",
      "source": [
        "# 데이터 나누기\n",
        "x_val = x_train[:1000]\n",
        "partial_x_train = x_train[1000:]\n",
        "\n",
        "y_val = one_hot_train_labels[:1000]\n",
        "partial_y_train = one_hot_train_labels[1000:]"
      ],
      "metadata": {
        "id": "OAoBZeXofwcg"
      },
      "execution_count": 63,
      "outputs": []
    },
    {
      "cell_type": "code",
      "source": [
        "history = model.fit(partial_x_train, partial_y_train, epochs=20, batch_size=512, validation_data=(x_val, y_val))"
      ],
      "metadata": {
        "id": "EIgVgJ_HfzIB",
        "colab": {
          "base_uri": "https://localhost:8080/"
        },
        "outputId": "75b1277c-0a6e-4f01-ccb8-a67a9ffc3501"
      },
      "execution_count": 64,
      "outputs": [
        {
          "output_type": "stream",
          "name": "stdout",
          "text": [
            "Epoch 1/20\n",
            "16/16 [==============================] - 3s 122ms/step - loss: 2.8148 - accuracy: 0.4912 - val_loss: 1.7766 - val_accuracy: 0.6070\n",
            "Epoch 2/20\n",
            "16/16 [==============================] - 2s 106ms/step - loss: 1.4405 - accuracy: 0.6789 - val_loss: 1.2924 - val_accuracy: 0.7080\n",
            "Epoch 3/20\n",
            "16/16 [==============================] - 2s 106ms/step - loss: 0.9891 - accuracy: 0.7757 - val_loss: 1.0776 - val_accuracy: 0.7620\n",
            "Epoch 4/20\n",
            "16/16 [==============================] - 2s 106ms/step - loss: 0.6757 - accuracy: 0.8467 - val_loss: 0.9660 - val_accuracy: 0.8040\n",
            "Epoch 5/20\n",
            "16/16 [==============================] - 2s 106ms/step - loss: 0.4354 - accuracy: 0.9028 - val_loss: 0.9310 - val_accuracy: 0.8070\n",
            "Epoch 6/20\n",
            "16/16 [==============================] - 2s 105ms/step - loss: 0.2853 - accuracy: 0.9352 - val_loss: 0.9561 - val_accuracy: 0.8110\n",
            "Epoch 7/20\n",
            "16/16 [==============================] - 2s 106ms/step - loss: 0.2015 - accuracy: 0.9486 - val_loss: 1.0000 - val_accuracy: 0.8030\n",
            "Epoch 8/20\n",
            "16/16 [==============================] - 2s 105ms/step - loss: 0.1647 - accuracy: 0.9562 - val_loss: 1.0152 - val_accuracy: 0.8190\n",
            "Epoch 9/20\n",
            "16/16 [==============================] - 2s 106ms/step - loss: 0.1404 - accuracy: 0.9574 - val_loss: 1.0148 - val_accuracy: 0.8220\n",
            "Epoch 10/20\n",
            "16/16 [==============================] - 2s 104ms/step - loss: 0.1265 - accuracy: 0.9602 - val_loss: 1.1068 - val_accuracy: 0.7890\n",
            "Epoch 11/20\n",
            "16/16 [==============================] - 2s 106ms/step - loss: 0.1333 - accuracy: 0.9615 - val_loss: 1.0557 - val_accuracy: 0.8010\n",
            "Epoch 12/20\n",
            "16/16 [==============================] - 2s 105ms/step - loss: 0.1156 - accuracy: 0.9599 - val_loss: 1.0357 - val_accuracy: 0.8050\n",
            "Epoch 13/20\n",
            "16/16 [==============================] - 2s 106ms/step - loss: 0.1115 - accuracy: 0.9618 - val_loss: 1.0855 - val_accuracy: 0.8030\n",
            "Epoch 14/20\n",
            "16/16 [==============================] - 2s 105ms/step - loss: 0.1059 - accuracy: 0.9624 - val_loss: 1.0501 - val_accuracy: 0.8090\n",
            "Epoch 15/20\n",
            "16/16 [==============================] - 2s 107ms/step - loss: 0.0968 - accuracy: 0.9618 - val_loss: 1.0569 - val_accuracy: 0.8140\n",
            "Epoch 16/20\n",
            "16/16 [==============================] - 2s 106ms/step - loss: 0.0941 - accuracy: 0.9625 - val_loss: 1.0651 - val_accuracy: 0.8120\n",
            "Epoch 17/20\n",
            "16/16 [==============================] - 2s 106ms/step - loss: 0.0958 - accuracy: 0.9612 - val_loss: 1.0827 - val_accuracy: 0.8050\n",
            "Epoch 18/20\n",
            "16/16 [==============================] - 2s 106ms/step - loss: 0.0943 - accuracy: 0.9623 - val_loss: 1.1110 - val_accuracy: 0.7960\n",
            "Epoch 19/20\n",
            "16/16 [==============================] - 2s 106ms/step - loss: 0.0884 - accuracy: 0.9612 - val_loss: 1.0665 - val_accuracy: 0.8060\n",
            "Epoch 20/20\n",
            "16/16 [==============================] - 2s 105ms/step - loss: 0.0818 - accuracy: 0.9622 - val_loss: 1.0916 - val_accuracy: 0.8050\n"
          ]
        }
      ]
    },
    {
      "cell_type": "code",
      "source": [
        "# 모델 평가\n",
        "model.evaluate(x_test, one_hot_test_labels)"
      ],
      "metadata": {
        "id": "05sn2Vaef1TN",
        "colab": {
          "base_uri": "https://localhost:8080/"
        },
        "outputId": "33363401-a9c6-4d06-ab3f-e0a3f25cbaa9"
      },
      "execution_count": 65,
      "outputs": [
        {
          "output_type": "stream",
          "name": "stdout",
          "text": [
            "71/71 [==============================] - 0s 6ms/step - loss: 1.2467 - accuracy: 0.7912\n"
          ]
        },
        {
          "output_type": "execute_result",
          "data": {
            "text/plain": [
              "[1.2466752529144287, 0.7911843061447144]"
            ]
          },
          "metadata": {},
          "execution_count": 65
        }
      ]
    },
    {
      "cell_type": "code",
      "source": [
        "# 시각화\n",
        "import matplotlib.pyplot as plt\n",
        "\n",
        "loss = history.history['loss']\n",
        "val_loss = history.history['val_loss']\n",
        "\n",
        "epochs = range(1, len(loss) + 1)\n",
        "\n",
        "plt.plot(epochs, loss, 'bo', label='Training loss')\n",
        "plt.plot(epochs, val_loss, 'b', label='Validation loss')\n",
        "plt.title('Training and validation loss')\n",
        "plt.xlabel('Epochs')\n",
        "plt.ylabel('Loss')\n",
        "plt.legend()\n",
        "\n",
        "plt.show()"
      ],
      "metadata": {
        "id": "ExywTXMZf3hZ",
        "colab": {
          "base_uri": "https://localhost:8080/",
          "height": 295
        },
        "outputId": "c4fe4972-8ccd-439c-e38b-136b9bb4510f"
      },
      "execution_count": 66,
      "outputs": [
        {
          "output_type": "display_data",
          "data": {
            "text/plain": [
              "<Figure size 432x288 with 1 Axes>"
            ],
            "image/png": "[encoded data removed]"
          },
          "metadata": {
            "needs_background": "light"
          }
        }
      ]
    },
    {
      "cell_type": "markdown",
      "source": [
        "### [회고]\n",
        "\n",
        "여러 가지 분류기를 한번에 돌리고 평가하는 함수를 짤 수 있으면 좋겠다. 이렇게 7가지 모델을 가각 입력하는 것은 아닌 것 같다. \n",
        "\n",
        "GBM과 Voting은 확실히 시간이 많이 걸린다. \n",
        "\n",
        "NN은 층을 4개 밖에 쌓지 않았고 파마리터도 튜닝하지 않았는데 그런대로 잘 돌아간다. "
      ],
      "metadata": {
        "id": "ku700szsg_SZ"
      }
    }
  ]
}